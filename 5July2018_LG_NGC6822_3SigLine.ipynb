{
 "cells": [
  {
   "cell_type": "markdown",
   "metadata": {},
   "source": [
    "## 5 July 2018\n",
    "-- Laurin Gray\n",
    "\n",
    "Making a 3-sigma curve down a CMD.  We flag any object rightward of the 3-sigma line \"of interest\".  If a source is flagged in multiple CMDs, we can be more confident that it is an AGB star.\n",
    "\n",
    "The approach in this notebook is to sort y-values, x-values, error values, and IDs into separate bins/arrays, grouped by magnitude ranges.  We sort by magnitude because as the source becomes dimmer, the error associated with it increases.  We determine the 3-sigma value for each range, and an average line down the main vertical branch to be 3-sigma away from.  We then identify any value that is higher than the 3-sigma boundary for the region it falls into and place the corresponding ID into a new array, which can be compared to other arrays to determine which ones are flagged in multiple CMDs.\n",
    "\n",
    "The processes in this notebook are not currently efficient for analyzing multiple CMDs, primarily because it is difficult to change the binsize/number.\n",
    "\n",
    "The data comes from the catalog of Spitzer sources of Khan et al. (2015), matched with sources from Whitelock et al. (2013) in CasJobs."
   ]
  },
  {
   "cell_type": "code",
   "execution_count": 1,
   "metadata": {},
   "outputs": [],
   "source": [
    "import pandas as pd\n",
    "import numpy as np\n",
    "import matplotlib.pyplot as plt\n",
    "%matplotlib inline\n",
    "from scipy.stats import gaussian_kde"
   ]
  },
  {
   "cell_type": "code",
   "execution_count": 2,
   "metadata": {},
   "outputs": [],
   "source": [
    "# Read in my data from a .csv file saved locally.\n",
    "phot_data = pd.read_csv('~/Documents/Phot_data/CMDparameters26June2018_lauringray.csv')"
   ]
  },
  {
   "cell_type": "code",
   "execution_count": 3,
   "metadata": {},
   "outputs": [],
   "source": [
    "# Create all color cuts needed for plotting\n",
    "\n",
    "phot_data['threesixMINUSfourfive'] = phot_data.k36mag.values - phot_data.k45mag.values\n",
    "phot_data['threesixMINUSfiveeight'] = phot_data.k36mag.values - phot_data.k58mag.values\n",
    "phot_data['threesixMINUSeightzero'] = phot_data.k36mag.values - phot_data.k80mag.values\n",
    "phot_data['threesixMINUStwentyfour'] = phot_data.k36mag.values - phot_data.k24mag.values\n",
    "#\n",
    "phot_data['fourfiveMINUSfiveeight'] = phot_data.k45mag.values - phot_data.k58mag.values\n",
    "phot_data['fourfiveMINUSeightzero'] = phot_data.k45mag.values - phot_data.k80mag.values\n",
    "phot_data['fourfiveMINUStwentyfour'] = phot_data.k45mag.values - phot_data.k24mag.values\n",
    "#\n",
    "phot_data['fiveeightMINUSeightzero'] = phot_data.k58mag.values - phot_data.k80mag.values\n",
    "phot_data['fiveeightMINUStwentyfour'] = phot_data.k58mag.values - phot_data.k24mag.values\n",
    "#\n",
    "phot_data['eightzeroMINUStwentyfour'] = phot_data.k80mag.values - phot_data.k24mag.values\n",
    "#\n",
    "phot_data['jMINUSthreesix'] = phot_data.Jmag.values - phot_data.k36mag.values\n",
    "phot_data['jMINUSfourfive'] = phot_data.Jmag.values - phot_data.k45mag.values\n",
    "phot_data['jMINUSfiveeight'] = phot_data.Jmag.values - phot_data.k58mag.values\n",
    "phot_data['jMINUSeightzero'] = phot_data.Jmag.values - phot_data.k80mag.values\n",
    "phot_data['jMINUStwentyfour'] = phot_data.Jmag.values - phot_data.k24mag.values\n",
    "#\n",
    "phot_data['hMINUSthreesix'] = phot_data.Hmag.values - phot_data.k36mag.values\n",
    "phot_data['hMINUSfourfive'] = phot_data.Hmag.values - phot_data.k45mag.values\n",
    "phot_data['hMINUSfiveeight'] = phot_data.Hmag.values - phot_data.k58mag.values\n",
    "phot_data['hMINUSeightzero'] = phot_data.Hmag.values - phot_data.k80mag.values\n",
    "phot_data['hMINUStwentyfour'] = phot_data.Hmag.values - phot_data.k24mag.values\n",
    "#\n",
    "phot_data['kMINUSthreesix'] = phot_data.Kmag.values - phot_data.k36mag.values\n",
    "phot_data['kMINUSfourfive'] = phot_data.Kmag.values - phot_data.k45mag.values\n",
    "phot_data['kMINUSfiveeight'] = phot_data.Kmag.values - phot_data.k58mag.values\n",
    "phot_data['kMINUSeightzero'] = phot_data.Kmag.values - phot_data.k80mag.values\n",
    "phot_data['kMINUStwentyfour'] = phot_data.Kmag.values - phot_data.k24mag.values"
   ]
  },
  {
   "cell_type": "code",
   "execution_count": 4,
   "metadata": {},
   "outputs": [],
   "source": [
    "# Combine errors\n",
    "\n",
    "# We want the horizontal error values, so we combine the errors for the two values being subtracted \n",
    "# to get the largest possible error bars\n",
    "\n",
    "phot_data['e_kMINUSthreesix'] = phot_data.eKmag.values + phot_data.e36mag.values"
   ]
  },
  {
   "cell_type": "code",
   "execution_count": 5,
   "metadata": {},
   "outputs": [],
   "source": [
    "# Some values in the tables are +/- 9999, due to null data from combining the tables, \n",
    "# which throws off the color scaling.  We wish to exclude these values, \n",
    "# which we do by cutting to only include values in the range -500:500\n",
    "\n",
    "filter_phot_data = phot_data[(phot_data < 500.0) & (phot_data > -500.0)]"
   ]
  },
  {
   "cell_type": "code",
   "execution_count": 6,
   "metadata": {},
   "outputs": [],
   "source": [
    "# In this notebook, we are working with the K vs K-[3.6] CMD.  \n",
    "# Y-range, binsize, and bin number may change depending on the data being accessed\n",
    "\n",
    "# First binning attempt\n",
    "# Bin size = 0.5 mag\n",
    "# Create an empty set for each magnitude range, one for each value we want to parse (x, y, err, ID)\n",
    "\n",
    "# set up bins as empty sets - bins for x-values\n",
    "x_elevenfive_twelve = []\n",
    "x_twelve_twelvefive = []\n",
    "x_twelvefive_thirteen = []\n",
    "x_thirteen_thirteenfive = []\n",
    "x_thirteenfive_fourteen = []\n",
    "x_fourteen_fourteenfive = []\n",
    "x_fourteenfive_fifteen = []\n",
    "x_fifteen_fifteenfive = []\n",
    "x_fifteenfive_sixteen = []\n",
    "x_sixteen_sixteenfive = []\n",
    "x_sixteenfive_seventeen = []\n",
    "x_seventeen_seventeenfive = []\n",
    "x_seventeenfive_eighteen = []\n",
    "x_eighteen_eighteenfive = []\n",
    "\n",
    "# bins for errors\n",
    "e_elevenfive_twelve = []\n",
    "e_twelve_twelvefive = []\n",
    "e_twelvefive_thirteen = []\n",
    "e_thirteen_thirteenfive = []\n",
    "e_thirteenfive_fourteen = []\n",
    "e_fourteen_fourteenfive = []\n",
    "e_fourteenfive_fifteen = []\n",
    "e_fifteen_fifteenfive = []\n",
    "e_fifteenfive_sixteen = []\n",
    "e_sixteen_sixteenfive = []\n",
    "e_sixteenfive_seventeen = []\n",
    "e_seventeen_seventeenfive = []\n",
    "e_seventeenfive_eighteen = []\n",
    "e_eighteen_eighteenfive = []\n",
    "\n",
    "# bins for coordinates & IDs\n",
    "c_elevenfive_twelve = []\n",
    "c_twelve_twelvefive = []\n",
    "c_twelvefive_thirteen = []\n",
    "c_thirteen_thirteenfive = []\n",
    "c_thirteenfive_fourteen = []\n",
    "c_fourteen_fourteenfive = []\n",
    "c_fourteenfive_fifteen = []\n",
    "c_fifteen_fifteenfive = []\n",
    "c_fifteenfive_sixteen = []\n",
    "c_sixteen_sixteenfive = []\n",
    "c_sixteenfive_seventeen = []\n",
    "c_seventeen_seventeenfive = []\n",
    "c_seventeenfive_eighteen = []\n",
    "c_eighteen_eighteenfive = []\n",
    "\n",
    "# bins to store corresponding y-values\n",
    "y_elevenfive_twelve = []\n",
    "y_twelve_twelvefive = []\n",
    "y_twelvefive_thirteen = []\n",
    "y_thirteen_thirteenfive = []\n",
    "y_thirteenfive_fourteen = []\n",
    "y_fourteen_fourteenfive = []\n",
    "y_fourteenfive_fifteen = []\n",
    "y_fifteen_fifteenfive = []\n",
    "y_fifteenfive_sixteen = []\n",
    "y_sixteen_sixteenfive = []\n",
    "y_sixteenfive_seventeen = []\n",
    "y_seventeen_seventeenfive = []\n",
    "y_seventeenfive_eighteen = []\n",
    "y_eighteen_eighteenfive = []"
   ]
  },
  {
   "cell_type": "code",
   "execution_count": 7,
   "metadata": {},
   "outputs": [],
   "source": [
    "# counter for accessing correct index of column\n",
    "c=0\n",
    "\n",
    "# for each element in the list of Kmag values, evaluate which range it belongs to, \n",
    "# then add the x-value, error, & ID from the corresponding row to the the bin/array for that range \n",
    "# & proceed to the next element\n",
    "\n",
    "for i in filter_phot_data.Kmag.values:\n",
    "    if 11.5 <= i < 12.0:\n",
    "        x_elevenfive_twelve.append(filter_phot_data.kMINUSthreesix.values[c])\n",
    "        e_elevenfive_twelve.append(filter_phot_data.e_kMINUSthreesix.values[c])\n",
    "        c_elevenfive_twelve.append(phot_data.ID.values[c])\n",
    "        y_elevenfive_twelve.append(i)\n",
    "        c = c+1\n",
    "    elif 12.0 <= i < 12.5:\n",
    "        x_twelve_twelvefive.append(filter_phot_data.kMINUSthreesix.values[c])\n",
    "        e_twelve_twelvefive.append(filter_phot_data.e_kMINUSthreesix.values[c])\n",
    "        c_twelve_twelvefive.append(phot_data.ID.values[c])\n",
    "        y_twelve_twelvefive.append(i)\n",
    "        c = c+1\n",
    "    elif 12.5 <= i < 13.0:\n",
    "        x_twelvefive_thirteen.append(filter_phot_data.kMINUSthreesix.values[c])\n",
    "        e_twelvefive_thirteen.append(filter_phot_data.e_kMINUSthreesix.values[c])\n",
    "        c_twelvefive_thirteen.append(phot_data.ID.values[c])\n",
    "        y_twelvefive_thirteen.append(i)\n",
    "        c = c+1\n",
    "    elif 13.0 <= i < 13.5:\n",
    "        x_thirteen_thirteenfive.append(filter_phot_data.kMINUSthreesix.values[c])\n",
    "        e_thirteen_thirteenfive.append(filter_phot_data.e_kMINUSthreesix.values[c])\n",
    "        c_thirteen_thirteenfive.append(phot_data.ID.values[c])\n",
    "        y_thirteen_thirteenfive.append(i)\n",
    "        c = c+1\n",
    "    elif 13.5 <= i < 14.0:\n",
    "        x_thirteenfive_fourteen.append(filter_phot_data.kMINUSthreesix.values[c])\n",
    "        e_thirteenfive_fourteen.append(filter_phot_data.e_kMINUSthreesix.values[c])\n",
    "        c_thirteenfive_fourteen.append(phot_data.ID.values[c])\n",
    "        y_thirteenfive_fourteen.append(i)\n",
    "        c = c+1\n",
    "    elif 14.0 <= i < 14.5:\n",
    "        x_fourteen_fourteenfive.append(filter_phot_data.kMINUSthreesix.values[c])\n",
    "        e_fourteen_fourteenfive.append(filter_phot_data.e_kMINUSthreesix.values[c])\n",
    "        c_fourteen_fourteenfive.append(phot_data.ID.values[c])\n",
    "        y_fourteen_fourteenfive.append(i)\n",
    "        c = c+1\n",
    "    elif 14.5 <= i < 15.0:\n",
    "        x_fourteenfive_fifteen.append(filter_phot_data.kMINUSthreesix.values[c])\n",
    "        e_fourteenfive_fifteen.append(filter_phot_data.e_kMINUSthreesix.values[c])\n",
    "        c_fourteenfive_fifteen.append(phot_data.ID.values[c])\n",
    "        y_fourteenfive_fifteen.append(i)\n",
    "        c = c+1\n",
    "    elif 15.0 <= i < 15.5:\n",
    "        x_fifteen_fifteenfive.append(filter_phot_data.kMINUSthreesix.values[c])\n",
    "        e_fifteen_fifteenfive.append(filter_phot_data.e_kMINUSthreesix.values[c])\n",
    "        c_fifteen_fifteenfive.append(phot_data.ID.values[c])\n",
    "        y_fifteen_fifteenfive.append(i)\n",
    "        c = c+1\n",
    "    elif 15.5 <= i < 16.0:\n",
    "        x_fifteenfive_sixteen.append(filter_phot_data.kMINUSthreesix.values[c])\n",
    "        e_fifteenfive_sixteen.append(filter_phot_data.e_kMINUSthreesix.values[c])\n",
    "        c_fifteenfive_sixteen.append(phot_data.ID.values[c])\n",
    "        y_fifteenfive_sixteen.append(i)\n",
    "        c = c+1\n",
    "    elif 16.0 <= i < 16.5:\n",
    "        x_sixteen_sixteenfive.append(filter_phot_data.kMINUSthreesix.values[c])\n",
    "        e_sixteen_sixteenfive.append(filter_phot_data.e_kMINUSthreesix.values[c])\n",
    "        c_sixteen_sixteenfive.append(phot_data.ID.values[c])\n",
    "        y_sixteen_sixteenfive.append(i)\n",
    "        c = c+1\n",
    "    elif 16.5 <= i < 17.0:\n",
    "        x_sixteenfive_seventeen.append(filter_phot_data.kMINUSthreesix.values[c])\n",
    "        e_sixteenfive_seventeen.append(filter_phot_data.e_kMINUSthreesix.values[c])\n",
    "        c_sixteenfive_seventeen.append(phot_data.ID.values[c])\n",
    "        y_sixteenfive_seventeen.append(i)\n",
    "        c = c+1\n",
    "    elif 17.0 <= i < 17.5:\n",
    "        x_seventeen_seventeenfive.append(filter_phot_data.kMINUSthreesix.values[c])\n",
    "        e_seventeen_seventeenfive.append(filter_phot_data.e_kMINUSthreesix.values[c])\n",
    "        c_seventeen_seventeenfive.append(phot_data.ID.values[c])\n",
    "        y_seventeen_seventeenfive.append(i)\n",
    "        c = c+1\n",
    "    elif 17.5 <= i < 18.0:\n",
    "        x_seventeenfive_eighteen.append(filter_phot_data.kMINUSthreesix.values[c])\n",
    "        e_seventeenfive_eighteen.append(filter_phot_data.e_kMINUSthreesix.values[c])\n",
    "        c_seventeenfive_eighteen.append(phot_data.ID.values[c])\n",
    "        y_seventeenfive_eighteen.append(i)\n",
    "        c = c+1\n",
    "    elif 18.0 <= i < 18.5:\n",
    "        x_eighteen_eighteenfive.append(filter_phot_data.kMINUSthreesix.values[c])\n",
    "        e_eighteen_eighteenfive.append(filter_phot_data.e_kMINUSthreesix.values[c])\n",
    "        c_eighteen_eighteenfive.append(phot_data.ID.values[c])\n",
    "        y_eighteen_eighteenfive.append(i)\n",
    "        c = c+1\n",
    "    else:\n",
    "        c = c+1"
   ]
  },
  {
   "cell_type": "code",
   "execution_count": 8,
   "metadata": {},
   "outputs": [],
   "source": [
    "# find mean of each error bin & multiply by 3 for 3-sigma\n",
    "\n",
    "s_elevenfive_twelve = np.mean(e_elevenfive_twelve)*3\n",
    "s_twelve_twelvefive = np.mean(e_twelve_twelvefive)*3\n",
    "s_twelvefive_thirteen = np.mean(e_twelvefive_thirteen)*3\n",
    "s_thirteen_thirteenfive = np.mean(e_thirteen_thirteenfive)*3\n",
    "s_thirteenfive_fourteen = np.mean(e_thirteenfive_fourteen)*3\n",
    "s_fourteen_fourteenfive = np.mean(e_fourteen_fourteenfive)*3\n",
    "s_fourteenfive_fifteen = np.mean(e_fourteenfive_fifteen)*3\n",
    "s_fifteen_fifteenfive = np.mean(e_fifteen_fifteenfive)*3\n",
    "s_fifteenfive_sixteen = np.mean(e_fifteenfive_sixteen)*3\n",
    "s_sixteen_sixteenfive = np.mean(e_sixteen_sixteenfive)*3\n",
    "s_sixteenfive_seventeen = np.mean(e_sixteenfive_seventeen)*3\n",
    "s_seventeen_seventeenfive = np.mean(e_seventeen_seventeenfive)*3\n",
    "s_seventeenfive_eighteen = np.mean(e_seventeenfive_eighteen)*3\n",
    "s_eighteen_eighteenfive = np.mean(e_eighteen_eighteenfive)*3"
   ]
  },
  {
   "cell_type": "code",
   "execution_count": 9,
   "metadata": {},
   "outputs": [],
   "source": [
    "# Lists of each set of bins.  We use these to access different values by region.\n",
    "\n",
    "# list of 3-sigma errors\n",
    "e_bins = [s_elevenfive_twelve, s_twelve_twelvefive, s_twelvefive_thirteen, s_thirteen_thirteenfive,\n",
    "        s_thirteenfive_fourteen, s_fourteen_fourteenfive, s_fourteenfive_fifteen, s_fifteen_fifteenfive, \n",
    "        s_fifteenfive_sixteen, s_sixteen_sixteenfive, s_sixteenfive_seventeen, s_seventeen_seventeenfive,\n",
    "        s_seventeenfive_eighteen, s_eighteen_eighteenfive]\n",
    "\n",
    "# list of the x-value bins\n",
    "x_bins = [x_elevenfive_twelve, x_twelve_twelvefive, x_twelvefive_thirteen, x_thirteen_thirteenfive,\n",
    "        x_thirteenfive_fourteen, x_fourteen_fourteenfive, x_fourteenfive_fifteen, x_fifteen_fifteenfive, \n",
    "        x_fifteenfive_sixteen, x_sixteen_sixteenfive, x_sixteenfive_seventeen, x_seventeen_seventeenfive,\n",
    "        x_seventeenfive_eighteen, x_eighteen_eighteenfive]\n",
    "\n",
    "# list of IDs & coordinates\n",
    "c_bins = [c_elevenfive_twelve, c_twelve_twelvefive, c_twelvefive_thirteen, c_thirteen_thirteenfive,\n",
    "        c_thirteenfive_fourteen, c_fourteen_fourteenfive, c_fourteenfive_fifteen, c_fifteen_fifteenfive, \n",
    "        c_fifteenfive_sixteen, c_sixteen_sixteenfive, c_sixteenfive_seventeen, c_seventeen_seventeenfive,\n",
    "        c_seventeenfive_eighteen, c_eighteen_eighteenfive]\n",
    "\n",
    "# list of y-value bins\n",
    "y_bins = [y_elevenfive_twelve, y_twelve_twelvefive, y_twelvefive_thirteen, y_thirteen_thirteenfive,\n",
    "        y_thirteenfive_fourteen, y_fourteen_fourteenfive, y_fourteenfive_fifteen, y_fifteen_fifteenfive, \n",
    "        y_fifteenfive_sixteen, y_sixteen_sixteenfive, y_sixteenfive_seventeen, y_seventeen_seventeenfive,\n",
    "        y_seventeenfive_eighteen, y_eighteen_eighteenfive]"
   ]
  },
  {
   "cell_type": "markdown",
   "metadata": {},
   "source": [
    "The points on the plot don't begin spreading until K~15, so we use the points above that line to define the vertical mean.  There is a little bit of spread included in this, so we do 3-sigma clipping for that section once to remove the effect of those points.\n",
    "I want to have this in a separate function, with the baseline magnitude as the argument."
   ]
  },
  {
   "cell_type": "code",
   "execution_count": 10,
   "metadata": {},
   "outputs": [],
   "source": [
    "# empty set for the values from the x-axis we will use to determine the vertical mean\n",
    "k_mean = []\n",
    "\n",
    "c=0\n",
    "for i in filter_phot_data.Kmag.values:\n",
    "    if i < 15.0:\n",
    "        k_mean.append(filter_phot_data.kMINUSthreesix.values[c])\n",
    "        c = c+1\n",
    "    else:\n",
    "        c = c+1\n",
    "\n",
    "bound = np.mean(k_mean)\n",
    "stdev = np.std(k_mean)\n",
    "\n",
    "left = bound - 3*stdev\n",
    "right = bound + 3*stdev\n",
    "\n",
    "clip = [] # sigma-clipped array\n",
    "for k in k_mean:\n",
    "    if left < k < right:\n",
    "        clip.append(k)\n",
    "\n",
    "boundary = np.mean(clip) #this is the average value of the points above K=15\n",
    "#print(boundary)"
   ]
  },
  {
   "cell_type": "code",
   "execution_count": 11,
   "metadata": {},
   "outputs": [
    {
     "data": {
      "text/plain": [
       "<matplotlib.lines.Line2D at 0x10b93c860>"
      ]
     },
     "execution_count": 11,
     "metadata": {},
     "output_type": "execute_result"
    },
    {
     "data": {
      "image/png": "[encoded data removed]",
      "text/plain": [
       "<Figure size 576x576 with 1 Axes>"
      ]
     },
     "metadata": {},
     "output_type": "display_data"
    }
   ],
   "source": [
    "# K vs. K-[3.6]\n",
    "#\n",
    "plt.figure(figsize=(8,8))\n",
    "plt.plot(filter_phot_data.kMINUSthreesix,filter_phot_data.Kmag,',')\n",
    "plt.xlim(-2.0, 3.5)\n",
    "plt.ylim(19.0, 11.0)\n",
    "plt.xlabel('K - [3.6]', size=12)\n",
    "plt.ylabel('K', size=12)\n",
    "plt.axvline(x=boundary, color='r', linewidth='0.5')\n",
    "#plt.savefig('K_vs_K-[3.6]_plot.pdf')"
   ]
  },
  {
   "cell_type": "code",
   "execution_count": 12,
   "metadata": {},
   "outputs": [],
   "source": [
    "# Now we shift regions of the vertical mean by 3-sigma\n",
    "\n",
    "# make list of red limit values\n",
    "redlim = []\n",
    "\n",
    "for i in e_bins:\n",
    "    redlim.append(boundary+i)\n",
    "    \n",
    "#print(redlim)"
   ]
  },
  {
   "cell_type": "code",
   "execution_count": 13,
   "metadata": {},
   "outputs": [
    {
     "data": {
      "image/png": "[encoded data removed]",
      "text/plain": [
       "<Figure size 576x576 with 1 Axes>"
      ]
     },
     "metadata": {},
     "output_type": "display_data"
    }
   ],
   "source": [
    "plt.figure(figsize=(8,8))\n",
    "plt.plot(filter_phot_data.kMINUSthreesix,filter_phot_data.Kmag,',')\n",
    "plt.xlim(-2.0, 3.5)\n",
    "plt.ylim(19.0, 11.0)\n",
    "plt.xlabel('K - [3.6]', size=12)\n",
    "plt.ylabel('K', size=12)\n",
    "\n",
    "y1 = 11.5 #start of first bin range\n",
    "for x in redlim:\n",
    "    plt.plot((x,x), (y1, y1+0.5), c='r', linewidth='0.5')\n",
    "    y1 = y1+0.5"
   ]
  },
  {
   "cell_type": "code",
   "execution_count": 14,
   "metadata": {},
   "outputs": [
    {
     "name": "stdout",
     "output_type": "stream",
     "text": [
      "Number of flagged points: 658\n"
     ]
    }
   ],
   "source": [
    "# Evaluate and flag points that are to the right of the red line for that region\n",
    "\n",
    "kMINUSthreesix_points = [] #empty set to store IDs\n",
    "\n",
    "k=0\n",
    "for i in x_bins:\n",
    "    coord = c_bins[k]\n",
    "    c=0\n",
    "    for x in i:\n",
    "        if x > redlim[k]:\n",
    "            kMINUSthreesix_points.append(coord[c])\n",
    "            c=c+1\n",
    "        else: \n",
    "            c=c+1\n",
    "    k = k+1\n",
    "            \n",
    "print(\"Number of flagged points:\", len(kMINUSthreesix_points))\n",
    "#print(\"IDs of points:\", kMINUSthreesix_points)"
   ]
  },
  {
   "cell_type": "code",
   "execution_count": 15,
   "metadata": {},
   "outputs": [],
   "source": [
    "# Check that the points are being marked correctly\n",
    "\n",
    "red_x = []\n",
    "red_y = []\n",
    "\n",
    "k=0\n",
    "for i in x_bins:\n",
    "    c=0\n",
    "    y_val = y_bins[k]\n",
    "    for x in i:\n",
    "        if x > redlim[k]:\n",
    "            red_x.append(x)\n",
    "            red_y.append(y_val[c])\n",
    "            c=c+1\n",
    "        else: \n",
    "            c=c+1\n",
    "    k = k+1"
   ]
  },
  {
   "cell_type": "code",
   "execution_count": 16,
   "metadata": {},
   "outputs": [
    {
     "data": {
      "image/png": "[encoded data removed]",
      "text/plain": [
       "<Figure size 576x576 with 1 Axes>"
      ]
     },
     "metadata": {},
     "output_type": "display_data"
    }
   ],
   "source": [
    "plt.figure(figsize=(8,8))\n",
    "plt.plot(filter_phot_data.kMINUSthreesix,filter_phot_data.Kmag,',')\n",
    "plt.xlim(-2.0, 3.5)\n",
    "plt.ylim(19.0, 11.0)\n",
    "plt.xlabel('K - [3.6]', size=12)\n",
    "plt.ylabel('K', size=12)\n",
    "plt.scatter(red_x, red_y, s=0.5, c='green')\n",
    "\n",
    "y1 = 11.5 #start of first bin range\n",
    "for x in redlim:\n",
    "    plt.plot((x,x), (y1, y1+0.5), c='r', linewidth='0.5')\n",
    "    y1 = y1+0.5"
   ]
  },
  {
   "cell_type": "code",
   "execution_count": null,
   "metadata": {},
   "outputs": [],
   "source": []
  },
  {
   "cell_type": "code",
   "execution_count": null,
   "metadata": {},
   "outputs": [],
   "source": []
  },
  {
   "cell_type": "code",
   "execution_count": null,
   "metadata": {},
   "outputs": [],
   "source": []
  }
 ],
 "metadata": {
  "kernelspec": {
   "display_name": "Python 3",
   "language": "python",
   "name": "python3"
  },
  "language_info": {
   "codemirror_mode": {
    "name": "ipython",
    "version": 3
   },
   "file_extension": ".py",
   "mimetype": "text/x-python",
   "name": "python",
   "nbconvert_exporter": "python",
   "pygments_lexer": "ipython3",
   "version": "3.5.5"
  }
 },
 "nbformat": 4,
 "nbformat_minor": 2
}
