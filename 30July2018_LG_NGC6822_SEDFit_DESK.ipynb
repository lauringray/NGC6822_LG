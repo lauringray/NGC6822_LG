{
 "cells": [
  {
   "cell_type": "markdown",
   "metadata": {},
   "source": [
    "## 30 July 2018\n",
    "-- Laurin Gray\n",
    "\n",
    "This notebook is to run the DESK SED fitting routines created by Dr. Steven Goldman (https://github.com/s-goldman/Dusty-Evolved-Star-Kit) on our tiered catalogs.  We have separated each source into its own csv file with wavelength in the first column and flux density in Jy in the second.\n",
    "\n",
    "I want to produce a single csv file with the fitting results for each tier, but I want each plot to be made individually.  I plan to accomplish this by creating a list of the files in a tier, and iterating through the list.  In each loop, the produced fitting results & plotting outputs will be added into master files, and the SED plot will be moved to another folder.\n",
    "\n",
    "Data is from the catalog of Spitzer sources of Khan et al. (2015), matched with sources from Whitelock et al. (2013) in CasJobs"
   ]
  },
  {
   "cell_type": "code",
   "execution_count": 1,
   "metadata": {},
   "outputs": [],
   "source": [
    "import pandas as pd\n",
    "import numpy as np\n",
    "import matplotlib.pyplot as plt\n",
    "%matplotlib inline\n",
    "from scipy.stats import gaussian_kde\n",
    "import csv\n",
    "import pathlib\n",
    "from pathlib import Path\n",
    "import os\n",
    "import re"
   ]
  },
  {
   "cell_type": "code",
   "execution_count": 2,
   "metadata": {},
   "outputs": [],
   "source": [
    "def natural_key(string_):\n",
    "    \"\"\"\n",
    "    Function for natural sorting of file list.\n",
    "    From: \n",
    "    https://stackoverflow.com/questions/2545532/python-analog-of-natsort-function-sort-a-list-using-a-natural-order-algorithm\n",
    "    See http://www.codinghorror.com/blog/archives/001018.html\n",
    "    \"\"\"\n",
    "    \n",
    "    return [int(s) if s.isdigit() else s for s in re.split(r'(\\d+)', string_)]"
   ]
  },
  {
   "cell_type": "code",
   "execution_count": 3,
   "metadata": {},
   "outputs": [],
   "source": [
    "def run_desk():\n",
    "    \"\"\"\n",
    "    Function for easily running DESK SED fitting routines produced by Dr. Steven Goldman \n",
    "    (https://github.com/s-goldman/Dusty-Evolved-Star-Kit).\n",
    "    \n",
    "    Function runs the DESK scripts on one file at a time, where each file is a csv of the wavelengths \n",
    "    and flux densities of an individual source.  Source files for a red candidate tier should be within the \n",
    "    same folder, accessed by dir_src.  The function creates master lists of the fitting results & plotting outputs\n",
    "    for all the sources within a tier, while keeping the plots for each source separate.\n",
    "    \n",
    "    Within the code, dir_dest should be changed by the user to point to the \"put_target_data_here\" folder of DESK \n",
    "    within their own computer.  dir_plot is the location of where the user wants to store the individual plots \n",
    "    (recommended to create a folder for each tier in this location before running function).  \n",
    "    The last part of the address for dir_src and dir_plot need to be the same (since they're both sorted by tier).\n",
    "    dir_outputs needs to be changed by the user to point to the DESK folder (where the raw output csvs are stored)\n",
    "    \n",
    "    Before calling function, the user defines:\n",
    "        # variables to stay the same every time the code runs\n",
    "        dir_src = '/Users/lgray/Documents/Phot_data/SED_Fit_Sources/30July2018/'\n",
    "        dir_dest = '/Users/lgray/anaconda3/lib/python3.6/site-packages/desk/put_target_data_here/' \n",
    "        dir_plot = '/Users/lgray/Documents/Phot_data/SED_Plots/'\n",
    "        dir_outputs = '/Users/lgray/anaconda3/lib/python3.6/site-packages/desk/'\n",
    "        single_fitting_results = dir_outputs + 'fitting_results.csv'\n",
    "        single_plot_output = dir_outputs + 'fitting_plotting_outputs.csv'\n",
    "        \n",
    "        # variables that will be input into the function to choose which data to run SED fits for\n",
    "        folder = 'in_eight/'\n",
    "        catalog = pd.read_csv('/Users/lgray/Documents/Phot_data/Red_Cand_Catalogs/30July2018/30July2018_LG_RedCand_8.csv')\n",
    "        master_result = '/Users/lgray/Documents/Phot_data/SED_Fit_Results/fitting_results_8.csv'\n",
    "        master_plot_output = '/Users/lgray/Documents/Phot_data/SED_Plot_Output/fitting_plotting_outputs_8.csv'\n",
    "    \n",
    "    User also defines natural_key (see function notebook) and \n",
    "        %cd '/Users/lgray/anaconda3/lib/python3.6/site-packages/desk/python_scripts'\n",
    "    into the directory for the scripts before running this function.\n",
    "    \n",
    "    Other notes:\n",
    "        - To avoid printing the output for every single source, comment out those lines in sed_fitting.py\n",
    "        - Make sure to adjust the options in sed_fitting.py as desired.\n",
    "        - All folders that data is being created in or moved to must exist before running the function.\n",
    "        \n",
    "    Call example:\n",
    "        run_desk()\n",
    "    \"\"\"\n",
    "    \n",
    "    list_of_sources = catalog.ID.values # list of just the sources in the current tier\n",
    "    list_of_files = os.listdir(dir_src+folder) # list of the filenames in the tier, i.e. '70.csv'\n",
    "    list_of_files = sorted(list_of_files, key=natural_key) # sorted with natural sorting\n",
    "    \n",
    "    list_of_files = ['70.csv', '85.csv', '106.csv'] # run with just 3 files to make sure it works\n",
    "    \n",
    "    c = 0\n",
    "    for src in list_of_files:\n",
    "        if c == 0:\n",
    "            os.system('rm ' + dir_dest+'*.csv') # empty place_target_data_here\n",
    "            os.system('cp ' + dir_src+folder+src+ ' ' + dir_dest) # cp dir_src+src dir_dest\n",
    "            %run sed_fitting.py\n",
    "            %run plotting_seds.py\n",
    "        \n",
    "        \n",
    "            # read fitting_results.csv into a new file in dir_result\n",
    "            master_fit = open(master_result, 'w') # master file\n",
    "            sing_fit = open(single_fitting_results, 'r')\n",
    "            writer = csv.writer(master_fit) # writer on master fit file\n",
    "            reader = csv.reader(sing_fit) # reader on single fit file\n",
    "\n",
    "            for row in reader:\n",
    "                data = row\n",
    "\n",
    "            writer.writerow(['source', 'L', 'vexp_predicted', 'teff', 'tinner', \n",
    "                             'odep', 'mdot']) # write headers (only 1st)\n",
    "            writer.writerow(data) # write row of data to master file\n",
    "            master_fit.close()\n",
    "            sing_fit.close()\n",
    "        \n",
    "        \n",
    "            # read fitting_plotting_outputs.csv into a new file in dir_result\n",
    "            master_plot = open(master_plot_output, 'w')\n",
    "            sing_plot_output = open(single_plot_output, 'r')\n",
    "            writer = csv.writer(master_plot)\n",
    "            reader = csv.reader(sing_plot_output)\n",
    "\n",
    "            for row in reader:\n",
    "                data = row\n",
    "\n",
    "            writer.writerow(['target_name', 'data_file', 'norm', 'index', 'grid_name', 'teff', 'tinner', 'number', \n",
    "                             'odep', 'mdot', 'vexp'])\n",
    "            writer.writerow(data)\n",
    "            master_plot.close()\n",
    "            sing_plot_output.close()\n",
    "        \n",
    "        \n",
    "            # move plot & rename\n",
    "            os.system('mv ' + dir_outputs+'output_seds.png' + ' ' + dir_plot+folder) # move plot to my plot directory\n",
    "            # rename plot with source ID\n",
    "            os.rename(dir_plot+folder+'output_seds.png', dir_plot+folder+str(catalog.ID.values[c])+'.png') \n",
    "            c = c+1\n",
    "        \n",
    "        else:\n",
    "            #print progress updates every 10 sources (helpful if printing is commented out in sed_fitting.py)\n",
    "            if c%10 == 0:\n",
    "                print('On source ', c, '/', len(list_of_files))\n",
    "            \n",
    "            k = c-1\n",
    "            os.system('rm ' + dir_dest+list_of_files[k]) # remove previous file\n",
    "            os.system('cp ' + dir_src+folder+src + ' ' + dir_dest)  \n",
    "            %run sed_fitting.py\n",
    "            %run plotting_seds.py\n",
    "        \n",
    "        \n",
    "            # read fitting_results.csv into existing file in dir_result\n",
    "            master_fit = pd.read_csv(master_result)\n",
    "            sing_fit = pd.read_csv(single_fitting_results)\n",
    "\n",
    "            master_fit = pd.concat([master_fit, sing_fit], axis=0)\n",
    "            master_fit.to_csv(master_result, index=False)\n",
    "        \n",
    "        \n",
    "            # read fitting_plotting_outputs.csv into existing file in dir_result\n",
    "            master_plot = pd.read_csv(master_plot_output)\n",
    "            sing_plot_output = pd.read_csv(single_plot_output)\n",
    "\n",
    "            master_plot = pd.concat([master_plot, sing_plot_output], axis=0)\n",
    "            master_plot.to_csv(master_plot_output, index=False)\n",
    "        \n",
    "        \n",
    "            # move plot & rename\n",
    "            os.system('mv ' + dir_outputs+'output_seds.png' + ' ' + dir_plot+folder)\n",
    "            os.rename(dir_plot+folder+'output_seds.png', dir_plot+folder+str(catalog.ID.values[c])+'.png')\n",
    "            c = c+1"
   ]
  },
  {
   "cell_type": "code",
   "execution_count": 4,
   "metadata": {},
   "outputs": [],
   "source": [
    "# variables to stay the same every time the code runs (modified for user's computer)\n",
    "dir_src = '/Users/lgray/Documents/Phot_data/SED_Fit_Sources/30July2018/'\n",
    "dir_dest = '/Users/lgray/anaconda3/lib/python3.6/site-packages/desk/put_target_data_here/' \n",
    "dir_plot = '/Users/lgray/Documents/Phot_data/SED_Plots/'\n",
    "dir_outputs = '/Users/lgray/anaconda3/lib/python3.6/site-packages/desk/'\n",
    "single_fitting_results = dir_outputs + 'fitting_results.csv'\n",
    "single_plot_output = dir_outputs + 'fitting_plotting_outputs.csv'\n",
    "\n",
    "# variables that will be input into the function to choose which data to run SED fits for\n",
    "folder = 'in_eight/'\n",
    "catalog = pd.read_csv('/Users/lgray/Documents/Phot_data/Red_Cand_Catalogs/30July2018/30July2018_LG_RedCand_8.csv')\n",
    "master_result = '/Users/lgray/Documents/Phot_data/SED_Fit_Results/fitting_results_8.csv'\n",
    "master_plot_output = '/Users/lgray/Documents/Phot_data/SED_Plot_Output/fitting_plotting_outputs_8.csv'"
   ]
  },
  {
   "cell_type": "code",
   "execution_count": 5,
   "metadata": {},
   "outputs": [
    {
     "name": "stdout",
     "output_type": "stream",
     "text": [
      "/Users/lgray/anaconda3/lib/python3.6/site-packages/desk/python_scripts\n"
     ]
    }
   ],
   "source": [
    "# move to script directory\n",
    "%cd '/Users/lgray/anaconda3/lib/python3.6/site-packages/desk/python_scripts'"
   ]
  },
  {
   "cell_type": "code",
   "execution_count": 6,
   "metadata": {},
   "outputs": [
    {
     "name": "stdout",
     "output_type": "stream",
     "text": [
      "\n",
      "Time: 0.33 minutes\n"
     ]
    },
    {
     "name": "stderr",
     "output_type": "stream",
     "text": [
      "/Users/lgray/anaconda3/lib/python3.6/site-packages/desk/python_scripts/plotting_seds.py:67: RuntimeWarning: divide by zero encountered in log10\n",
      "  y_model = np.log10(y_model)\n"
     ]
    },
    {
     "name": "stdout",
     "output_type": "stream",
     "text": [
      "\n",
      "Time: 0.33 minutes\n"
     ]
    },
    {
     "name": "stderr",
     "output_type": "stream",
     "text": [
      "/Users/lgray/anaconda3/lib/python3.6/site-packages/desk/python_scripts/plotting_seds.py:67: RuntimeWarning: divide by zero encountered in log10\n",
      "  y_model = np.log10(y_model)\n"
     ]
    },
    {
     "name": "stdout",
     "output_type": "stream",
     "text": [
      "\n",
      "Time: 0.32 minutes\n"
     ]
    },
    {
     "name": "stderr",
     "output_type": "stream",
     "text": [
      "/Users/lgray/anaconda3/lib/python3.6/site-packages/desk/python_scripts/plotting_seds.py:67: RuntimeWarning: divide by zero encountered in log10\n",
      "  y_model = np.log10(y_model)\n"
     ]
    }
   ],
   "source": [
    "run_desk()"
   ]
  },
  {
   "cell_type": "markdown",
   "metadata": {},
   "source": [
    "I've also modified line 74 of plotting_seds.py to read:\n",
    "\n",
    "    ax1.set_ylim(min(y_data)-1, max(y_data)+1)\n",
    "\n",
    "This gives me an auto-adjusted y-axis.\n",
    "\n",
    "Also, while this function does save a complete list of all the plotting output data generated, that file cannot be used to plot SEDs with plotting_seds.py because the second column won't point to the correct file (assuming the master file is located outside of the DESK output folder).  I assume this could be fixed by moving the plotting output master file to the outputs location & renaming it \"fitting_plotting_outputs.csv\" before running the plotting script."
   ]
  },
  {
   "cell_type": "code",
   "execution_count": null,
   "metadata": {},
   "outputs": [],
   "source": []
  }
 ],
 "metadata": {
  "kernelspec": {
   "display_name": "Python 3",
   "language": "python",
   "name": "python3"
  },
  "language_info": {
   "codemirror_mode": {
    "name": "ipython",
    "version": 3
   },
   "file_extension": ".py",
   "mimetype": "text/x-python",
   "name": "python",
   "nbconvert_exporter": "python",
   "pygments_lexer": "ipython3",
   "version": "3.6.5"
  }
 },
 "nbformat": 4,
 "nbformat_minor": 2
}
