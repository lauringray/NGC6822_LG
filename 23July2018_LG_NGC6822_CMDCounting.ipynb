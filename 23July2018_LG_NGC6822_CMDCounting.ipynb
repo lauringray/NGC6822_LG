{
 "cells": [
  {
   "cell_type": "markdown",
   "metadata": {},
   "source": [
    "## 23 July 2018\n",
    "-- Laurin Gray\n",
    "\n",
    "This notebook is to determine which points appear to the right of the 3-sigma line (23July2018_3SigFlagging notebook) in multiple CMDs.\n",
    "\n",
    "The data comes from the catalog of Spitzer sources of Khan et al. (2015), matched with sources from Whitelock et al. (2013) in CasJobs."
   ]
  },
  {
   "cell_type": "code",
   "execution_count": 1,
   "metadata": {},
   "outputs": [],
   "source": [
    "import pandas as pd\n",
    "import numpy as np\n",
    "import matplotlib.pyplot as plt\n",
    "%matplotlib inline\n",
    "from scipy.stats import gaussian_kde\n",
    "import csv\n",
    "import pathlib"
   ]
  },
  {
   "cell_type": "code",
   "execution_count": 2,
   "metadata": {},
   "outputs": [],
   "source": [
    "# Read in the table of points to the right of the 3-sigma line\n",
    "\n",
    "flagged_data = pd.read_csv('/Users/lgray/Documents/Phot_data/flagged_vals_23July2018_lauringray.csv')"
   ]
  },
  {
   "cell_type": "code",
   "execution_count": 3,
   "metadata": {},
   "outputs": [],
   "source": [
    "# shorten variable names\n",
    "\n",
    "jMINUSthreesix = flagged_data.threesixVS_jMINUSthreesix.values                  # [3.6] vs. J - [3.6]\n",
    "threesixMINUSeightzero = flagged_data.eightzeroVS_threesixMINUSeightzero.values # [8.0] vs. [3.6]-[8.0]\n",
    "fourfiveMINUSeightzero = flagged_data.eightzeroVS_fourfiveMINUSeightzero.values # [8.0] vs. [4.5]-[8.0]\n",
    "jMINUSh = flagged_data.hVS_jMINUSh.values                                       # H vs. J-H\n",
    "hMINUSthreesix = flagged_data.hVS_hMINUSthreesix.values                         # H vs. H-[3.6]\n",
    "hMINUSfourfive = flagged_data.hVS_hMINUSfourfive.values                         # H vs. H-[4.5]\n",
    "hMINUSk = flagged_data.kVS_hMINUSk.values                                       # K vs. H-K\n",
    "jMINUSk = flagged_data.kVS_jMINUSk.values                                       # K vs. J-K"
   ]
  },
  {
   "cell_type": "markdown",
   "metadata": {},
   "source": [
    "The 8 CMDs that were data-flagged are:\n",
    "    - [3.6] vs. J-[3.6]\n",
    "    - [8.0] vs. [3.6]-[8.0]\n",
    "    - [8.0] vs. [4.5]-[8.0]\n",
    "    - H vs. J-H\n",
    "    - H vs. H-[3.6]\n",
    "    - H vs. H-[4.5]\n",
    "    - K vs. H-K\n",
    "    - K vs. J-K\n",
    "\n",
    "The current approach is to iterate through the longest column (jMINUSthreesix), because that has the most IDs to look for matches for.  I create a list of the other columns, and for each ID in the longest column, check each column in the list (converted into a set).  If the ID is in that column, add +1 to a counter.  After checking all the other columns, append the ID to a list according to the value of the counter."
   ]
  },
  {
   "cell_type": "code",
   "execution_count": 27,
   "metadata": {},
   "outputs": [],
   "source": [
    "def CMD_count(col, column_list):\n",
    "    \"\"\"\n",
    "    Before running the function, user defines empty lists of CMD counts as:\n",
    "        in_one = []\n",
    "        in_two = []\n",
    "        in_three = []\n",
    "        in_four = []\n",
    "        in_five = []\n",
    "        in_six = []\n",
    "        in_seven = []\n",
    "        in_eight = []\n",
    "        in_nine = []\n",
    "        in_ten = []\n",
    "    \n",
    "    This is so that the function can be run on multiple columns without erasing the previous lists.\n",
    "    \n",
    "    User chooses a CMD column that they want to use to iterate through the other CMDs (col), and defines a list\n",
    "    including all other columns (column_list).\n",
    "    \n",
    "    For each element in the chosen column, the function goes through the list of columns, \n",
    "    and checks if the element is in a column.  Each time it is, +1 is added to a counter.  The element is then \n",
    "    sorted into a list based on the final value of the counter, after checking to make sure that \n",
    "    the element is not already in that list (so that it can be run on multiple columns).\n",
    "    \n",
    "    The function also prints which row of the chosen column the function is on every 100 rows, \n",
    "    which is useful for estimating progress.\n",
    "    \"\"\"\n",
    "    \n",
    "    k = 1 # row counter\n",
    "    while k < len(col): # so that the program doesn't try to go past the length of the column\n",
    "        for i in col:\n",
    "            if k%100 == 0:\n",
    "                print(\"On row\", k) \n",
    "        \n",
    "            a=1 # CMD counter\n",
    "            for c in column_list:\n",
    "                s = set(c)\n",
    "                if i in s:\n",
    "                    a = a+1\n",
    "        \n",
    "            if a == 1 and int(i) not in in_one: #if the counter is at 1 and the ID has not already been included\n",
    "                in_one.append(int(i))\n",
    "            elif a == 2 and int(i) not in in_two:\n",
    "                in_two.append(int(i))\n",
    "            elif a == 3 and int(i) not in in_three:\n",
    "                in_three.append(int(i))\n",
    "            elif a == 4 and int(i) not in in_four:\n",
    "                in_four.append(int(i))\n",
    "            elif a == 5 and int(i) not in in_five:\n",
    "                in_five.append(int(i))\n",
    "            elif a == 6 and int(i) not in in_six:\n",
    "                in_six.append(int(i))\n",
    "            elif a == 7 and int(i) not in in_seven:\n",
    "                in_seven.append(int(i))\n",
    "            elif a == 8 and int(i) not in in_eight:\n",
    "                in_eight.append(int(i))\n",
    "            \n",
    "            k = k+1"
   ]
  },
  {
   "cell_type": "code",
   "execution_count": 8,
   "metadata": {},
   "outputs": [],
   "source": [
    "in_one = []\n",
    "in_two = []\n",
    "in_three = []\n",
    "in_four = []\n",
    "in_five = []\n",
    "in_six = []\n",
    "in_seven = []\n",
    "in_eight = []"
   ]
  },
  {
   "cell_type": "code",
   "execution_count": 6,
   "metadata": {},
   "outputs": [],
   "source": [
    "full_col_list = [jMINUSthreesix, fourfiveMINUSeightzero, threesixMINUSeightzero, jMINUSk, \n",
    "            hMINUSthreesix, jMINUSh, hMINUSfourfive, hMINUSk]"
   ]
  },
  {
   "cell_type": "code",
   "execution_count": 9,
   "metadata": {},
   "outputs": [
    {
     "name": "stdout",
     "output_type": "stream",
     "text": [
      "On row 100\n",
      "On row 200\n",
      "On row 300\n",
      "On row 400\n",
      "On row 500\n",
      "On row 600\n",
      "On row 700\n",
      "On row 800\n",
      "On row 900\n",
      "On row 1000\n",
      "On row 1100\n",
      "On row 1200\n",
      "On row 1300\n",
      "On row 1400\n",
      "On row 1500\n",
      "On row 1600\n",
      "On row 1700\n",
      "On row 1800\n",
      "On row 1900\n",
      "On row 2000\n",
      "On row 2100\n",
      "On row 2200\n",
      "On row 2300\n",
      "On row 2400\n",
      "On row 2500\n"
     ]
    }
   ],
   "source": [
    "col_list = [fourfiveMINUSeightzero, threesixMINUSeightzero, jMINUSk, \n",
    "            hMINUSthreesix, jMINUSh, hMINUSfourfive, hMINUSk]\n",
    "CMD_count(jMINUSthreesix, col_list)"
   ]
  },
  {
   "cell_type": "code",
   "execution_count": 10,
   "metadata": {},
   "outputs": [
    {
     "name": "stdout",
     "output_type": "stream",
     "text": [
      "Number in 1 CMD: 583\n",
      "Number in 2 CMDs: 293\n",
      "Number in 3 CMDs: 591\n",
      "Number in 4 CMDs: 239\n",
      "Number in 5 CMDs: 243\n",
      "Number in 6 CMDs: 213\n",
      "Number in 7 CMDs: 137\n",
      "Number in 8 CMDs: 230\n"
     ]
    }
   ],
   "source": [
    "print(\"Number in 1 CMD:\", len(in_one))\n",
    "print(\"Number in 2 CMDs:\", len(in_two))\n",
    "print(\"Number in 3 CMDs:\", len(in_three))\n",
    "print(\"Number in 4 CMDs:\", len(in_four))\n",
    "print(\"Number in 5 CMDs:\", len(in_five))\n",
    "print(\"Number in 6 CMDs:\", len(in_six))\n",
    "print(\"Number in 7 CMDs:\", len(in_seven))\n",
    "print(\"Number in 8 CMDs:\", len(in_eight))"
   ]
  },
  {
   "cell_type": "code",
   "execution_count": 12,
   "metadata": {},
   "outputs": [
    {
     "name": "stdout",
     "output_type": "stream",
     "text": [
      "On row 100\n",
      "On row 200\n",
      "On row 300\n",
      "On row 400\n",
      "On row 500\n",
      "On row 600\n",
      "On row 700\n",
      "On row 800\n",
      "On row 900\n",
      "On row 1000\n",
      "On row 1100\n",
      "On row 1200\n",
      "On row 1300\n",
      "On row 1400\n",
      "On row 1500\n",
      "On row 1600\n",
      "On row 1700\n",
      "On row 1800\n",
      "On row 1900\n",
      "On row 2000\n",
      "On row 2100\n",
      "On row 2200\n"
     ]
    },
    {
     "ename": "ValueError",
     "evalue": "cannot convert float NaN to integer",
     "output_type": "error",
     "traceback": [
      "\u001b[0;31m------------------------------------------------------------------------\u001b[0m",
      "\u001b[0;31mValueError\u001b[0m                             Traceback (most recent call last)",
      "\u001b[0;32m<ipython-input-12-8baffdea6f3f>\u001b[0m in \u001b[0;36m<module>\u001b[0;34m()\u001b[0m\n\u001b[1;32m      2\u001b[0m             hMINUSthreesix, jMINUSh, hMINUSfourfive, hMINUSk]\n\u001b[1;32m      3\u001b[0m \u001b[0;34m\u001b[0m\u001b[0m\n\u001b[0;32m----> 4\u001b[0;31m \u001b[0mCMD_count\u001b[0m\u001b[0;34m(\u001b[0m\u001b[0mfourfiveMINUSeightzero\u001b[0m\u001b[0;34m,\u001b[0m \u001b[0mcol_list\u001b[0m\u001b[0;34m)\u001b[0m\u001b[0;34m\u001b[0m\u001b[0m\n\u001b[0m",
      "\u001b[0;32m<ipython-input-4-ed0f8555f34d>\u001b[0m in \u001b[0;36mCMD_count\u001b[0;34m(col, column_list)\u001b[0m\n\u001b[1;32m     39\u001b[0m                     \u001b[0ma\u001b[0m \u001b[0;34m=\u001b[0m \u001b[0ma\u001b[0m\u001b[0;34m+\u001b[0m\u001b[0;36m1\u001b[0m\u001b[0;34m\u001b[0m\u001b[0m\n\u001b[1;32m     40\u001b[0m \u001b[0;34m\u001b[0m\u001b[0m\n\u001b[0;32m---> 41\u001b[0;31m             \u001b[0;32mif\u001b[0m \u001b[0ma\u001b[0m \u001b[0;34m==\u001b[0m \u001b[0;36m1\u001b[0m \u001b[0;32mand\u001b[0m \u001b[0mint\u001b[0m\u001b[0;34m(\u001b[0m\u001b[0mi\u001b[0m\u001b[0;34m)\u001b[0m \u001b[0;32mnot\u001b[0m \u001b[0;32min\u001b[0m \u001b[0min_one\u001b[0m\u001b[0;34m:\u001b[0m \u001b[0;31m#if the counter is at 1 and the ID has not already been included\u001b[0m\u001b[0;34m\u001b[0m\u001b[0m\n\u001b[0m\u001b[1;32m     42\u001b[0m                 \u001b[0min_one\u001b[0m\u001b[0;34m.\u001b[0m\u001b[0mappend\u001b[0m\u001b[0;34m(\u001b[0m\u001b[0mint\u001b[0m\u001b[0;34m(\u001b[0m\u001b[0mi\u001b[0m\u001b[0;34m)\u001b[0m\u001b[0;34m)\u001b[0m\u001b[0;34m\u001b[0m\u001b[0m\n\u001b[1;32m     43\u001b[0m             \u001b[0;32melif\u001b[0m \u001b[0ma\u001b[0m \u001b[0;34m==\u001b[0m \u001b[0;36m2\u001b[0m \u001b[0;32mand\u001b[0m \u001b[0mint\u001b[0m\u001b[0;34m(\u001b[0m\u001b[0mi\u001b[0m\u001b[0;34m)\u001b[0m \u001b[0;32mnot\u001b[0m \u001b[0;32min\u001b[0m \u001b[0min_two\u001b[0m\u001b[0;34m:\u001b[0m\u001b[0;34m\u001b[0m\u001b[0m\n",
      "\u001b[0;31mValueError\u001b[0m: cannot convert float NaN to integer"
     ]
    }
   ],
   "source": [
    "col_list = [jMINUSthreesix, threesixMINUSeightzero, jMINUSk, \n",
    "            hMINUSthreesix, jMINUSh, hMINUSfourfive, hMINUSk]\n",
    "\n",
    "CMD_count(fourfiveMINUSeightzero, col_list)"
   ]
  },
  {
   "cell_type": "code",
   "execution_count": 16,
   "metadata": {},
   "outputs": [
    {
     "name": "stdout",
     "output_type": "stream",
     "text": [
      "Number in 1 CMD: 657\n",
      "Number in 2 CMDs: 1880\n",
      "Number in 3 CMDs: 601\n",
      "Number in 4 CMDs: 247\n",
      "Number in 5 CMDs: 243\n",
      "Number in 6 CMDs: 215\n",
      "Number in 7 CMDs: 137\n",
      "Number in 8 CMDs: 230\n",
      "[85, 106, 170, 262, 286, 299, 313, 342, 348, 350, 385, 387, 389, 402, 406, 411, 437, 439, 442, 481, 498, 516, 540, 546, 585, 616, 618, 627, 632, 636, 643, 653, 654, 658, 664, 665, 685, 703, 722, 724, 733, 734, 751, 782, 783, 785, 789, 796, 800, 813, 821, 822, 835, 849, 869, 874, 883, 884, 889, 911, 917, 930, 935, 961, 963, 965, 975, 979, 991, 992, 1001, 1010, 1018, 1046, 1052, 1055, 1076, 1091, 1093, 1094, 1098, 1100, 1103, 1122, 1124, 1135, 1154, 1157, 1160, 1163, 1175, 1184, 1202, 1203, 1211, 1222, 1232, 1235, 1241, 1253, 1258, 1261, 1273, 1277, 1278, 1283, 1285, 1291, 1294, 1298, 1300, 1320, 1323, 1324, 1349, 1357, 1361, 1369, 1373, 1386, 1389, 1398, 1402, 1417, 1418, 1424, 1429, 1430, 1431, 1439, 1440, 1447, 1448, 1452, 1459, 1492, 1500, 1529, 1534, 1563, 1574, 1579, 1612, 1621, 1630, 1640, 1658, 1662, 1666, 1680, 1689, 1709, 1721, 1735, 1738, 1744, 1784, 1786, 1787, 1790, 1823, 1828, 1843, 1848, 1872, 1897, 1903, 1905, 1919, 1929, 1968, 1970, 1979, 2026, 2027, 2052, 2065, 2079, 2090, 2104, 2109, 2152, 2154, 2160, 2168, 2280, 2283, 2287, 2305, 2318, 2322, 2364, 2370, 2373, 2377, 2386, 2390, 2449, 2472, 2499, 2501, 2512, 2554, 2589, 2598, 2619, 2671, 2717, 2718, 2726, 2727, 2809, 2813, 2878, 2933, 2955, 2990, 3074, 3126, 3158, 3182, 3216, 3267, 3313, 3341, 3405, 3638, 3688, 3808, 4037]\n"
     ]
    }
   ],
   "source": [
    "print(\"Number in 1 CMD:\", len(in_one))\n",
    "print(\"Number in 2 CMDs:\", len(in_two))\n",
    "print(\"Number in 3 CMDs:\", len(in_three))\n",
    "print(\"Number in 4 CMDs:\", len(in_four))\n",
    "print(\"Number in 5 CMDs:\", len(in_five))\n",
    "print(\"Number in 6 CMDs:\", len(in_six))\n",
    "print(\"Number in 7 CMDs:\", len(in_seven))\n",
    "print(\"Number in 8 CMDs:\", len(in_eight))"
   ]
  },
  {
   "cell_type": "code",
   "execution_count": 17,
   "metadata": {},
   "outputs": [
    {
     "name": "stdout",
     "output_type": "stream",
     "text": [
      "On row 100\n",
      "On row 200\n",
      "On row 300\n",
      "On row 400\n",
      "On row 500\n",
      "On row 600\n",
      "On row 700\n",
      "On row 800\n",
      "On row 900\n",
      "On row 1000\n",
      "On row 1100\n",
      "On row 1200\n",
      "On row 1300\n",
      "On row 1400\n",
      "On row 1500\n",
      "On row 1600\n",
      "On row 1700\n",
      "On row 1800\n",
      "On row 1900\n",
      "On row 2000\n",
      "On row 2100\n",
      "On row 2200\n"
     ]
    },
    {
     "ename": "ValueError",
     "evalue": "cannot convert float NaN to integer",
     "output_type": "error",
     "traceback": [
      "\u001b[0;31m------------------------------------------------------------------------\u001b[0m",
      "\u001b[0;31mValueError\u001b[0m                             Traceback (most recent call last)",
      "\u001b[0;32m<ipython-input-17-9caac275a9c8>\u001b[0m in \u001b[0;36m<module>\u001b[0;34m()\u001b[0m\n\u001b[1;32m      2\u001b[0m             hMINUSthreesix, jMINUSh, hMINUSfourfive, hMINUSk]\n\u001b[1;32m      3\u001b[0m \u001b[0;34m\u001b[0m\u001b[0m\n\u001b[0;32m----> 4\u001b[0;31m \u001b[0mCMD_count\u001b[0m\u001b[0;34m(\u001b[0m\u001b[0mthreesixMINUSeightzero\u001b[0m\u001b[0;34m,\u001b[0m \u001b[0mcol_list\u001b[0m\u001b[0;34m)\u001b[0m\u001b[0;34m\u001b[0m\u001b[0m\n\u001b[0m",
      "\u001b[0;32m<ipython-input-14-ed0f8555f34d>\u001b[0m in \u001b[0;36mCMD_count\u001b[0;34m(col, column_list)\u001b[0m\n\u001b[1;32m     39\u001b[0m                     \u001b[0ma\u001b[0m \u001b[0;34m=\u001b[0m \u001b[0ma\u001b[0m\u001b[0;34m+\u001b[0m\u001b[0;36m1\u001b[0m\u001b[0;34m\u001b[0m\u001b[0m\n\u001b[1;32m     40\u001b[0m \u001b[0;34m\u001b[0m\u001b[0m\n\u001b[0;32m---> 41\u001b[0;31m             \u001b[0;32mif\u001b[0m \u001b[0ma\u001b[0m \u001b[0;34m==\u001b[0m \u001b[0;36m1\u001b[0m \u001b[0;32mand\u001b[0m \u001b[0mint\u001b[0m\u001b[0;34m(\u001b[0m\u001b[0mi\u001b[0m\u001b[0;34m)\u001b[0m \u001b[0;32mnot\u001b[0m \u001b[0;32min\u001b[0m \u001b[0min_one\u001b[0m\u001b[0;34m:\u001b[0m \u001b[0;31m#if the counter is at 1 and the ID has not already been included\u001b[0m\u001b[0;34m\u001b[0m\u001b[0m\n\u001b[0m\u001b[1;32m     42\u001b[0m                 \u001b[0min_one\u001b[0m\u001b[0;34m.\u001b[0m\u001b[0mappend\u001b[0m\u001b[0;34m(\u001b[0m\u001b[0mint\u001b[0m\u001b[0;34m(\u001b[0m\u001b[0mi\u001b[0m\u001b[0;34m)\u001b[0m\u001b[0;34m)\u001b[0m\u001b[0;34m\u001b[0m\u001b[0m\n\u001b[1;32m     43\u001b[0m             \u001b[0;32melif\u001b[0m \u001b[0ma\u001b[0m \u001b[0;34m==\u001b[0m \u001b[0;36m2\u001b[0m \u001b[0;32mand\u001b[0m \u001b[0mint\u001b[0m\u001b[0;34m(\u001b[0m\u001b[0mi\u001b[0m\u001b[0;34m)\u001b[0m \u001b[0;32mnot\u001b[0m \u001b[0;32min\u001b[0m \u001b[0min_two\u001b[0m\u001b[0;34m:\u001b[0m\u001b[0;34m\u001b[0m\u001b[0m\n",
      "\u001b[0;31mValueError\u001b[0m: cannot convert float NaN to integer"
     ]
    }
   ],
   "source": [
    "col_list = [jMINUSthreesix, fourfiveMINUSeightzero, jMINUSk, \n",
    "            hMINUSthreesix, jMINUSh, hMINUSfourfive, hMINUSk]\n",
    "\n",
    "CMD_count(threesixMINUSeightzero, col_list)"
   ]
  },
  {
   "cell_type": "code",
   "execution_count": 18,
   "metadata": {},
   "outputs": [
    {
     "name": "stdout",
     "output_type": "stream",
     "text": [
      "Number in 1 CMD: 736\n",
      "Number in 2 CMDs: 1883\n",
      "Number in 3 CMDs: 603\n",
      "Number in 4 CMDs: 247\n",
      "Number in 5 CMDs: 243\n",
      "Number in 6 CMDs: 215\n",
      "Number in 7 CMDs: 137\n",
      "Number in 8 CMDs: 230\n"
     ]
    }
   ],
   "source": [
    "print(\"Number in 1 CMD:\", len(in_one))\n",
    "print(\"Number in 2 CMDs:\", len(in_two))\n",
    "print(\"Number in 3 CMDs:\", len(in_three))\n",
    "print(\"Number in 4 CMDs:\", len(in_four))\n",
    "print(\"Number in 5 CMDs:\", len(in_five))\n",
    "print(\"Number in 6 CMDs:\", len(in_six))\n",
    "print(\"Number in 7 CMDs:\", len(in_seven))\n",
    "print(\"Number in 8 CMDs:\", len(in_eight))"
   ]
  },
  {
   "cell_type": "code",
   "execution_count": 19,
   "metadata": {},
   "outputs": [
    {
     "name": "stdout",
     "output_type": "stream",
     "text": [
      "On row 100\n",
      "On row 200\n",
      "On row 300\n",
      "On row 400\n",
      "On row 500\n",
      "On row 600\n",
      "On row 700\n",
      "On row 800\n",
      "On row 900\n",
      "On row 1000\n",
      "On row 1100\n",
      "On row 1200\n",
      "On row 1300\n",
      "On row 1400\n"
     ]
    },
    {
     "ename": "ValueError",
     "evalue": "cannot convert float NaN to integer",
     "output_type": "error",
     "traceback": [
      "\u001b[0;31m------------------------------------------------------------------------\u001b[0m",
      "\u001b[0;31mValueError\u001b[0m                             Traceback (most recent call last)",
      "\u001b[0;32m<ipython-input-19-451e746ebc95>\u001b[0m in \u001b[0;36m<module>\u001b[0;34m()\u001b[0m\n\u001b[1;32m      2\u001b[0m             hMINUSthreesix, jMINUSh, hMINUSfourfive, hMINUSk]\n\u001b[1;32m      3\u001b[0m \u001b[0;34m\u001b[0m\u001b[0m\n\u001b[0;32m----> 4\u001b[0;31m \u001b[0mCMD_count\u001b[0m\u001b[0;34m(\u001b[0m\u001b[0mjMINUSk\u001b[0m\u001b[0;34m,\u001b[0m \u001b[0mcol_list\u001b[0m\u001b[0;34m)\u001b[0m\u001b[0;34m\u001b[0m\u001b[0m\n\u001b[0m",
      "\u001b[0;32m<ipython-input-14-ed0f8555f34d>\u001b[0m in \u001b[0;36mCMD_count\u001b[0;34m(col, column_list)\u001b[0m\n\u001b[1;32m     39\u001b[0m                     \u001b[0ma\u001b[0m \u001b[0;34m=\u001b[0m \u001b[0ma\u001b[0m\u001b[0;34m+\u001b[0m\u001b[0;36m1\u001b[0m\u001b[0;34m\u001b[0m\u001b[0m\n\u001b[1;32m     40\u001b[0m \u001b[0;34m\u001b[0m\u001b[0m\n\u001b[0;32m---> 41\u001b[0;31m             \u001b[0;32mif\u001b[0m \u001b[0ma\u001b[0m \u001b[0;34m==\u001b[0m \u001b[0;36m1\u001b[0m \u001b[0;32mand\u001b[0m \u001b[0mint\u001b[0m\u001b[0;34m(\u001b[0m\u001b[0mi\u001b[0m\u001b[0;34m)\u001b[0m \u001b[0;32mnot\u001b[0m \u001b[0;32min\u001b[0m \u001b[0min_one\u001b[0m\u001b[0;34m:\u001b[0m \u001b[0;31m#if the counter is at 1 and the ID has not already been included\u001b[0m\u001b[0;34m\u001b[0m\u001b[0m\n\u001b[0m\u001b[1;32m     42\u001b[0m                 \u001b[0min_one\u001b[0m\u001b[0;34m.\u001b[0m\u001b[0mappend\u001b[0m\u001b[0;34m(\u001b[0m\u001b[0mint\u001b[0m\u001b[0;34m(\u001b[0m\u001b[0mi\u001b[0m\u001b[0;34m)\u001b[0m\u001b[0;34m)\u001b[0m\u001b[0;34m\u001b[0m\u001b[0m\n\u001b[1;32m     43\u001b[0m             \u001b[0;32melif\u001b[0m \u001b[0ma\u001b[0m \u001b[0;34m==\u001b[0m \u001b[0;36m2\u001b[0m \u001b[0;32mand\u001b[0m \u001b[0mint\u001b[0m\u001b[0;34m(\u001b[0m\u001b[0mi\u001b[0m\u001b[0;34m)\u001b[0m \u001b[0;32mnot\u001b[0m \u001b[0;32min\u001b[0m \u001b[0min_two\u001b[0m\u001b[0;34m:\u001b[0m\u001b[0;34m\u001b[0m\u001b[0m\n",
      "\u001b[0;31mValueError\u001b[0m: cannot convert float NaN to integer"
     ]
    }
   ],
   "source": [
    "col_list = [jMINUSthreesix, fourfiveMINUSeightzero, threesixMINUSeightzero, \n",
    "            hMINUSthreesix, jMINUSh, hMINUSfourfive, hMINUSk]\n",
    "\n",
    "CMD_count(jMINUSk, col_list)"
   ]
  },
  {
   "cell_type": "code",
   "execution_count": 20,
   "metadata": {},
   "outputs": [
    {
     "name": "stdout",
     "output_type": "stream",
     "text": [
      "Number in 1 CMD: 755\n",
      "Number in 2 CMDs: 1981\n",
      "Number in 3 CMDs: 612\n",
      "Number in 4 CMDs: 250\n",
      "Number in 5 CMDs: 243\n",
      "Number in 6 CMDs: 215\n",
      "Number in 7 CMDs: 137\n",
      "Number in 8 CMDs: 230\n"
     ]
    }
   ],
   "source": [
    "print(\"Number in 1 CMD:\", len(in_one))\n",
    "print(\"Number in 2 CMDs:\", len(in_two))\n",
    "print(\"Number in 3 CMDs:\", len(in_three))\n",
    "print(\"Number in 4 CMDs:\", len(in_four))\n",
    "print(\"Number in 5 CMDs:\", len(in_five))\n",
    "print(\"Number in 6 CMDs:\", len(in_six))\n",
    "print(\"Number in 7 CMDs:\", len(in_seven))\n",
    "print(\"Number in 8 CMDs:\", len(in_eight))"
   ]
  },
  {
   "cell_type": "code",
   "execution_count": 21,
   "metadata": {},
   "outputs": [
    {
     "name": "stdout",
     "output_type": "stream",
     "text": [
      "On row 100\n",
      "On row 200\n",
      "On row 300\n",
      "On row 400\n",
      "On row 500\n",
      "On row 600\n",
      "On row 700\n",
      "On row 800\n",
      "On row 900\n",
      "On row 1000\n",
      "On row 1100\n",
      "On row 1200\n",
      "On row 1300\n",
      "On row 1400\n"
     ]
    },
    {
     "ename": "ValueError",
     "evalue": "cannot convert float NaN to integer",
     "output_type": "error",
     "traceback": [
      "\u001b[0;31m------------------------------------------------------------------------\u001b[0m",
      "\u001b[0;31mValueError\u001b[0m                             Traceback (most recent call last)",
      "\u001b[0;32m<ipython-input-21-442dab109a64>\u001b[0m in \u001b[0;36m<module>\u001b[0;34m()\u001b[0m\n\u001b[1;32m      2\u001b[0m             jMINUSh, hMINUSfourfive, hMINUSk]\n\u001b[1;32m      3\u001b[0m \u001b[0;34m\u001b[0m\u001b[0m\n\u001b[0;32m----> 4\u001b[0;31m \u001b[0mCMD_count\u001b[0m\u001b[0;34m(\u001b[0m\u001b[0mhMINUSthreesix\u001b[0m\u001b[0;34m,\u001b[0m \u001b[0mcol_list\u001b[0m\u001b[0;34m)\u001b[0m\u001b[0;34m\u001b[0m\u001b[0m\n\u001b[0m",
      "\u001b[0;32m<ipython-input-14-ed0f8555f34d>\u001b[0m in \u001b[0;36mCMD_count\u001b[0;34m(col, column_list)\u001b[0m\n\u001b[1;32m     39\u001b[0m                     \u001b[0ma\u001b[0m \u001b[0;34m=\u001b[0m \u001b[0ma\u001b[0m\u001b[0;34m+\u001b[0m\u001b[0;36m1\u001b[0m\u001b[0;34m\u001b[0m\u001b[0m\n\u001b[1;32m     40\u001b[0m \u001b[0;34m\u001b[0m\u001b[0m\n\u001b[0;32m---> 41\u001b[0;31m             \u001b[0;32mif\u001b[0m \u001b[0ma\u001b[0m \u001b[0;34m==\u001b[0m \u001b[0;36m1\u001b[0m \u001b[0;32mand\u001b[0m \u001b[0mint\u001b[0m\u001b[0;34m(\u001b[0m\u001b[0mi\u001b[0m\u001b[0;34m)\u001b[0m \u001b[0;32mnot\u001b[0m \u001b[0;32min\u001b[0m \u001b[0min_one\u001b[0m\u001b[0;34m:\u001b[0m \u001b[0;31m#if the counter is at 1 and the ID has not already been included\u001b[0m\u001b[0;34m\u001b[0m\u001b[0m\n\u001b[0m\u001b[1;32m     42\u001b[0m                 \u001b[0min_one\u001b[0m\u001b[0;34m.\u001b[0m\u001b[0mappend\u001b[0m\u001b[0;34m(\u001b[0m\u001b[0mint\u001b[0m\u001b[0;34m(\u001b[0m\u001b[0mi\u001b[0m\u001b[0;34m)\u001b[0m\u001b[0;34m)\u001b[0m\u001b[0;34m\u001b[0m\u001b[0m\n\u001b[1;32m     43\u001b[0m             \u001b[0;32melif\u001b[0m \u001b[0ma\u001b[0m \u001b[0;34m==\u001b[0m \u001b[0;36m2\u001b[0m \u001b[0;32mand\u001b[0m \u001b[0mint\u001b[0m\u001b[0;34m(\u001b[0m\u001b[0mi\u001b[0m\u001b[0;34m)\u001b[0m \u001b[0;32mnot\u001b[0m \u001b[0;32min\u001b[0m \u001b[0min_two\u001b[0m\u001b[0;34m:\u001b[0m\u001b[0;34m\u001b[0m\u001b[0m\n",
      "\u001b[0;31mValueError\u001b[0m: cannot convert float NaN to integer"
     ]
    }
   ],
   "source": [
    "col_list = [jMINUSthreesix, fourfiveMINUSeightzero, threesixMINUSeightzero, jMINUSk, \n",
    "            jMINUSh, hMINUSfourfive, hMINUSk]\n",
    "\n",
    "CMD_count(hMINUSthreesix, col_list)"
   ]
  },
  {
   "cell_type": "code",
   "execution_count": 22,
   "metadata": {},
   "outputs": [
    {
     "name": "stdout",
     "output_type": "stream",
     "text": [
      "Number in 1 CMD: 771\n",
      "Number in 2 CMDs: 2017\n",
      "Number in 3 CMDs: 612\n",
      "Number in 4 CMDs: 250\n",
      "Number in 5 CMDs: 243\n",
      "Number in 6 CMDs: 215\n",
      "Number in 7 CMDs: 137\n",
      "Number in 8 CMDs: 230\n"
     ]
    }
   ],
   "source": [
    "print(\"Number in 1 CMD:\", len(in_one))\n",
    "print(\"Number in 2 CMDs:\", len(in_two))\n",
    "print(\"Number in 3 CMDs:\", len(in_three))\n",
    "print(\"Number in 4 CMDs:\", len(in_four))\n",
    "print(\"Number in 5 CMDs:\", len(in_five))\n",
    "print(\"Number in 6 CMDs:\", len(in_six))\n",
    "print(\"Number in 7 CMDs:\", len(in_seven))\n",
    "print(\"Number in 8 CMDs:\", len(in_eight))"
   ]
  },
  {
   "cell_type": "code",
   "execution_count": 23,
   "metadata": {},
   "outputs": [
    {
     "name": "stdout",
     "output_type": "stream",
     "text": [
      "On row 100\n",
      "On row 200\n",
      "On row 300\n",
      "On row 400\n",
      "On row 500\n",
      "On row 600\n",
      "On row 700\n",
      "On row 800\n",
      "On row 900\n",
      "On row 1000\n",
      "On row 1100\n",
      "On row 1200\n",
      "On row 1300\n"
     ]
    },
    {
     "ename": "ValueError",
     "evalue": "cannot convert float NaN to integer",
     "output_type": "error",
     "traceback": [
      "\u001b[0;31m------------------------------------------------------------------------\u001b[0m",
      "\u001b[0;31mValueError\u001b[0m                             Traceback (most recent call last)",
      "\u001b[0;32m<ipython-input-23-57e494139aa6>\u001b[0m in \u001b[0;36m<module>\u001b[0;34m()\u001b[0m\n\u001b[1;32m      2\u001b[0m             hMINUSthreesix, hMINUSfourfive, hMINUSk]\n\u001b[1;32m      3\u001b[0m \u001b[0;34m\u001b[0m\u001b[0m\n\u001b[0;32m----> 4\u001b[0;31m \u001b[0mCMD_count\u001b[0m\u001b[0;34m(\u001b[0m\u001b[0mjMINUSh\u001b[0m\u001b[0;34m,\u001b[0m \u001b[0mcol_list\u001b[0m\u001b[0;34m)\u001b[0m\u001b[0;34m\u001b[0m\u001b[0m\n\u001b[0m",
      "\u001b[0;32m<ipython-input-14-ed0f8555f34d>\u001b[0m in \u001b[0;36mCMD_count\u001b[0;34m(col, column_list)\u001b[0m\n\u001b[1;32m     39\u001b[0m                     \u001b[0ma\u001b[0m \u001b[0;34m=\u001b[0m \u001b[0ma\u001b[0m\u001b[0;34m+\u001b[0m\u001b[0;36m1\u001b[0m\u001b[0;34m\u001b[0m\u001b[0m\n\u001b[1;32m     40\u001b[0m \u001b[0;34m\u001b[0m\u001b[0m\n\u001b[0;32m---> 41\u001b[0;31m             \u001b[0;32mif\u001b[0m \u001b[0ma\u001b[0m \u001b[0;34m==\u001b[0m \u001b[0;36m1\u001b[0m \u001b[0;32mand\u001b[0m \u001b[0mint\u001b[0m\u001b[0;34m(\u001b[0m\u001b[0mi\u001b[0m\u001b[0;34m)\u001b[0m \u001b[0;32mnot\u001b[0m \u001b[0;32min\u001b[0m \u001b[0min_one\u001b[0m\u001b[0;34m:\u001b[0m \u001b[0;31m#if the counter is at 1 and the ID has not already been included\u001b[0m\u001b[0;34m\u001b[0m\u001b[0m\n\u001b[0m\u001b[1;32m     42\u001b[0m                 \u001b[0min_one\u001b[0m\u001b[0;34m.\u001b[0m\u001b[0mappend\u001b[0m\u001b[0;34m(\u001b[0m\u001b[0mint\u001b[0m\u001b[0;34m(\u001b[0m\u001b[0mi\u001b[0m\u001b[0;34m)\u001b[0m\u001b[0;34m)\u001b[0m\u001b[0;34m\u001b[0m\u001b[0m\n\u001b[1;32m     43\u001b[0m             \u001b[0;32melif\u001b[0m \u001b[0ma\u001b[0m \u001b[0;34m==\u001b[0m \u001b[0;36m2\u001b[0m \u001b[0;32mand\u001b[0m \u001b[0mint\u001b[0m\u001b[0;34m(\u001b[0m\u001b[0mi\u001b[0m\u001b[0;34m)\u001b[0m \u001b[0;32mnot\u001b[0m \u001b[0;32min\u001b[0m \u001b[0min_two\u001b[0m\u001b[0;34m:\u001b[0m\u001b[0;34m\u001b[0m\u001b[0m\n",
      "\u001b[0;31mValueError\u001b[0m: cannot convert float NaN to integer"
     ]
    }
   ],
   "source": [
    "col_list = [jMINUSthreesix, fourfiveMINUSeightzero, threesixMINUSeightzero, jMINUSk, \n",
    "            hMINUSthreesix, hMINUSfourfive, hMINUSk]\n",
    "\n",
    "CMD_count(jMINUSh, col_list)"
   ]
  },
  {
   "cell_type": "code",
   "execution_count": 24,
   "metadata": {},
   "outputs": [
    {
     "name": "stdout",
     "output_type": "stream",
     "text": [
      "Number in 1 CMD: 819\n",
      "Number in 2 CMDs: 2018\n",
      "Number in 3 CMDs: 612\n",
      "Number in 4 CMDs: 250\n",
      "Number in 5 CMDs: 243\n",
      "Number in 6 CMDs: 215\n",
      "Number in 7 CMDs: 137\n",
      "Number in 8 CMDs: 230\n"
     ]
    }
   ],
   "source": [
    "print(\"Number in 1 CMD:\", len(in_one))\n",
    "print(\"Number in 2 CMDs:\", len(in_two))\n",
    "print(\"Number in 3 CMDs:\", len(in_three))\n",
    "print(\"Number in 4 CMDs:\", len(in_four))\n",
    "print(\"Number in 5 CMDs:\", len(in_five))\n",
    "print(\"Number in 6 CMDs:\", len(in_six))\n",
    "print(\"Number in 7 CMDs:\", len(in_seven))\n",
    "print(\"Number in 8 CMDs:\", len(in_eight))"
   ]
  },
  {
   "cell_type": "code",
   "execution_count": 25,
   "metadata": {},
   "outputs": [
    {
     "name": "stdout",
     "output_type": "stream",
     "text": [
      "On row 100\n",
      "On row 200\n",
      "On row 300\n",
      "On row 400\n",
      "On row 500\n",
      "On row 600\n",
      "On row 700\n",
      "On row 800\n",
      "On row 900\n",
      "On row 1000\n",
      "On row 1100\n",
      "On row 1200\n"
     ]
    },
    {
     "ename": "ValueError",
     "evalue": "cannot convert float NaN to integer",
     "output_type": "error",
     "traceback": [
      "\u001b[0;31m------------------------------------------------------------------------\u001b[0m",
      "\u001b[0;31mValueError\u001b[0m                             Traceback (most recent call last)",
      "\u001b[0;32m<ipython-input-25-c22645d02610>\u001b[0m in \u001b[0;36m<module>\u001b[0;34m()\u001b[0m\n\u001b[1;32m      2\u001b[0m             hMINUSthreesix, jMINUSh, hMINUSk]\n\u001b[1;32m      3\u001b[0m \u001b[0;34m\u001b[0m\u001b[0m\n\u001b[0;32m----> 4\u001b[0;31m \u001b[0mCMD_count\u001b[0m\u001b[0;34m(\u001b[0m\u001b[0mhMINUSfourfive\u001b[0m\u001b[0;34m,\u001b[0m \u001b[0mcol_list\u001b[0m\u001b[0;34m)\u001b[0m\u001b[0;34m\u001b[0m\u001b[0m\n\u001b[0m",
      "\u001b[0;32m<ipython-input-14-ed0f8555f34d>\u001b[0m in \u001b[0;36mCMD_count\u001b[0;34m(col, column_list)\u001b[0m\n\u001b[1;32m     39\u001b[0m                     \u001b[0ma\u001b[0m \u001b[0;34m=\u001b[0m \u001b[0ma\u001b[0m\u001b[0;34m+\u001b[0m\u001b[0;36m1\u001b[0m\u001b[0;34m\u001b[0m\u001b[0m\n\u001b[1;32m     40\u001b[0m \u001b[0;34m\u001b[0m\u001b[0m\n\u001b[0;32m---> 41\u001b[0;31m             \u001b[0;32mif\u001b[0m \u001b[0ma\u001b[0m \u001b[0;34m==\u001b[0m \u001b[0;36m1\u001b[0m \u001b[0;32mand\u001b[0m \u001b[0mint\u001b[0m\u001b[0;34m(\u001b[0m\u001b[0mi\u001b[0m\u001b[0;34m)\u001b[0m \u001b[0;32mnot\u001b[0m \u001b[0;32min\u001b[0m \u001b[0min_one\u001b[0m\u001b[0;34m:\u001b[0m \u001b[0;31m#if the counter is at 1 and the ID has not already been included\u001b[0m\u001b[0;34m\u001b[0m\u001b[0m\n\u001b[0m\u001b[1;32m     42\u001b[0m                 \u001b[0min_one\u001b[0m\u001b[0;34m.\u001b[0m\u001b[0mappend\u001b[0m\u001b[0;34m(\u001b[0m\u001b[0mint\u001b[0m\u001b[0;34m(\u001b[0m\u001b[0mi\u001b[0m\u001b[0;34m)\u001b[0m\u001b[0;34m)\u001b[0m\u001b[0;34m\u001b[0m\u001b[0m\n\u001b[1;32m     43\u001b[0m             \u001b[0;32melif\u001b[0m \u001b[0ma\u001b[0m \u001b[0;34m==\u001b[0m \u001b[0;36m2\u001b[0m \u001b[0;32mand\u001b[0m \u001b[0mint\u001b[0m\u001b[0;34m(\u001b[0m\u001b[0mi\u001b[0m\u001b[0;34m)\u001b[0m \u001b[0;32mnot\u001b[0m \u001b[0;32min\u001b[0m \u001b[0min_two\u001b[0m\u001b[0;34m:\u001b[0m\u001b[0;34m\u001b[0m\u001b[0m\n",
      "\u001b[0;31mValueError\u001b[0m: cannot convert float NaN to integer"
     ]
    }
   ],
   "source": [
    "col_list = [jMINUSthreesix, fourfiveMINUSeightzero, threesixMINUSeightzero, jMINUSk, \n",
    "            hMINUSthreesix, jMINUSh, hMINUSk]\n",
    "\n",
    "CMD_count(hMINUSfourfive, col_list)"
   ]
  },
  {
   "cell_type": "code",
   "execution_count": 26,
   "metadata": {},
   "outputs": [
    {
     "name": "stdout",
     "output_type": "stream",
     "text": [
      "Number in 1 CMD: 908\n",
      "Number in 2 CMDs: 2018\n",
      "Number in 3 CMDs: 612\n",
      "Number in 4 CMDs: 250\n",
      "Number in 5 CMDs: 243\n",
      "Number in 6 CMDs: 215\n",
      "Number in 7 CMDs: 137\n",
      "Number in 8 CMDs: 230\n"
     ]
    }
   ],
   "source": [
    "print(\"Number in 1 CMD:\", len(in_one))\n",
    "print(\"Number in 2 CMDs:\", len(in_two))\n",
    "print(\"Number in 3 CMDs:\", len(in_three))\n",
    "print(\"Number in 4 CMDs:\", len(in_four))\n",
    "print(\"Number in 5 CMDs:\", len(in_five))\n",
    "print(\"Number in 6 CMDs:\", len(in_six))\n",
    "print(\"Number in 7 CMDs:\", len(in_seven))\n",
    "print(\"Number in 8 CMDs:\", len(in_eight))"
   ]
  },
  {
   "cell_type": "code",
   "execution_count": 28,
   "metadata": {},
   "outputs": [
    {
     "name": "stdout",
     "output_type": "stream",
     "text": [
      "On row 100\n",
      "On row 200\n",
      "On row 300\n",
      "On row 400\n",
      "On row 500\n"
     ]
    },
    {
     "ename": "ValueError",
     "evalue": "cannot convert float NaN to integer",
     "output_type": "error",
     "traceback": [
      "\u001b[0;31m------------------------------------------------------------------------\u001b[0m",
      "\u001b[0;31mValueError\u001b[0m                             Traceback (most recent call last)",
      "\u001b[0;32m<ipython-input-28-a1a08d4c04d1>\u001b[0m in \u001b[0;36m<module>\u001b[0;34m()\u001b[0m\n\u001b[1;32m      2\u001b[0m             hMINUSthreesix, jMINUSh, hMINUSfourfive]\n\u001b[1;32m      3\u001b[0m \u001b[0;34m\u001b[0m\u001b[0m\n\u001b[0;32m----> 4\u001b[0;31m \u001b[0mCMD_count\u001b[0m\u001b[0;34m(\u001b[0m\u001b[0mhMINUSk\u001b[0m\u001b[0;34m,\u001b[0m \u001b[0mcol_list\u001b[0m\u001b[0;34m)\u001b[0m\u001b[0;34m\u001b[0m\u001b[0m\n\u001b[0m",
      "\u001b[0;32m<ipython-input-27-91e503b6d624>\u001b[0m in \u001b[0;36mCMD_count\u001b[0;34m(col, column_list)\u001b[0m\n\u001b[1;32m     39\u001b[0m                     \u001b[0ma\u001b[0m \u001b[0;34m=\u001b[0m \u001b[0ma\u001b[0m\u001b[0;34m+\u001b[0m\u001b[0;36m1\u001b[0m\u001b[0;34m\u001b[0m\u001b[0m\n\u001b[1;32m     40\u001b[0m \u001b[0;34m\u001b[0m\u001b[0m\n\u001b[0;32m---> 41\u001b[0;31m             \u001b[0;32mif\u001b[0m \u001b[0ma\u001b[0m \u001b[0;34m==\u001b[0m \u001b[0;36m1\u001b[0m \u001b[0;32mand\u001b[0m \u001b[0mint\u001b[0m\u001b[0;34m(\u001b[0m\u001b[0mi\u001b[0m\u001b[0;34m)\u001b[0m \u001b[0;32mnot\u001b[0m \u001b[0;32min\u001b[0m \u001b[0min_one\u001b[0m\u001b[0;34m:\u001b[0m \u001b[0;31m#if the counter is at 1 and the ID has not already been included\u001b[0m\u001b[0;34m\u001b[0m\u001b[0m\n\u001b[0m\u001b[1;32m     42\u001b[0m                 \u001b[0min_one\u001b[0m\u001b[0;34m.\u001b[0m\u001b[0mappend\u001b[0m\u001b[0;34m(\u001b[0m\u001b[0mint\u001b[0m\u001b[0;34m(\u001b[0m\u001b[0mi\u001b[0m\u001b[0;34m)\u001b[0m\u001b[0;34m)\u001b[0m\u001b[0;34m\u001b[0m\u001b[0m\n\u001b[1;32m     43\u001b[0m             \u001b[0;32melif\u001b[0m \u001b[0ma\u001b[0m \u001b[0;34m==\u001b[0m \u001b[0;36m2\u001b[0m \u001b[0;32mand\u001b[0m \u001b[0mint\u001b[0m\u001b[0;34m(\u001b[0m\u001b[0mi\u001b[0m\u001b[0;34m)\u001b[0m \u001b[0;32mnot\u001b[0m \u001b[0;32min\u001b[0m \u001b[0min_two\u001b[0m\u001b[0;34m:\u001b[0m\u001b[0;34m\u001b[0m\u001b[0m\n",
      "\u001b[0;31mValueError\u001b[0m: cannot convert float NaN to integer"
     ]
    }
   ],
   "source": [
    "col_list = [jMINUSthreesix, fourfiveMINUSeightzero, threesixMINUSeightzero, jMINUSk, \n",
    "            hMINUSthreesix, jMINUSh, hMINUSfourfive]\n",
    "\n",
    "CMD_count(hMINUSk, col_list)"
   ]
  },
  {
   "cell_type": "code",
   "execution_count": 29,
   "metadata": {},
   "outputs": [
    {
     "name": "stdout",
     "output_type": "stream",
     "text": [
      "Number in 1 CMD: 908\n",
      "Number in 2 CMDs: 2018\n",
      "Number in 3 CMDs: 612\n",
      "Number in 4 CMDs: 250\n",
      "Number in 5 CMDs: 243\n",
      "Number in 6 CMDs: 215\n",
      "Number in 7 CMDs: 137\n",
      "Number in 8 CMDs: 230\n"
     ]
    }
   ],
   "source": [
    "print(\"Number in 1 CMD:\", len(in_one))\n",
    "print(\"Number in 2 CMDs:\", len(in_two))\n",
    "print(\"Number in 3 CMDs:\", len(in_three))\n",
    "print(\"Number in 4 CMDs:\", len(in_four))\n",
    "print(\"Number in 5 CMDs:\", len(in_five))\n",
    "print(\"Number in 6 CMDs:\", len(in_six))\n",
    "print(\"Number in 7 CMDs:\", len(in_seven))\n",
    "print(\"Number in 8 CMDs:\", len(in_eight))"
   ]
  },
  {
   "cell_type": "code",
   "execution_count": 30,
   "metadata": {},
   "outputs": [],
   "source": [
    "# save data\n",
    "\n",
    "filename = '/Users/lgray/Documents/Phot_data/CMD_counting_23July2018_lauringray.csv'\n",
    "\n",
    "f = open(filename, 'w')\n",
    "writer = csv.writer(f)\n",
    "#add heading\n",
    "points_w_header = ['in_one'] + in_one\n",
    "\n",
    "for val in points_w_header:\n",
    "    writer.writerow([val])\n",
    "\n",
    "f.close()\n",
    "\n",
    "\n",
    "# list of other counts\n",
    "counts = [in_two, in_three, in_four, in_five, in_six, in_seven, in_eight]\n",
    "headers = ['in_two', 'in_three', 'in_four', 'in_five', 'in_six', 'in_seven', 'in_eight']\n",
    "\n",
    "c=0\n",
    "for i in counts:\n",
    "    data = pd.read_csv(filename)\n",
    "    new_col = pd.DataFrame({headers[c]:i})\n",
    "    c = c+1\n",
    "\n",
    "    data= pd.concat([data, new_col], axis=1)\n",
    "    data.to_csv(filename, index=False)"
   ]
  },
  {
   "cell_type": "code",
   "execution_count": null,
   "metadata": {},
   "outputs": [],
   "source": []
  }
 ],
 "metadata": {
  "kernelspec": {
   "display_name": "Python 3",
   "language": "python",
   "name": "python3"
  },
  "language_info": {
   "codemirror_mode": {
    "name": "ipython",
    "version": 3
   },
   "file_extension": ".py",
   "mimetype": "text/x-python",
   "name": "python",
   "nbconvert_exporter": "python",
   "pygments_lexer": "ipython3",
   "version": "3.6.5"
  }
 },
 "nbformat": 4,
 "nbformat_minor": 2
}
