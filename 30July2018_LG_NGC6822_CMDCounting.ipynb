{
 "cells": [
  {
   "cell_type": "markdown",
   "metadata": {},
   "source": [
    "## 30 July 2018\n",
    "-- Laurin Gray\n",
    "\n",
    "This notebook is to determine which points appear to the right of the 3-sigma line (30July2018_3SigFlagging notebook) in multiple CMDs.\n",
    "\n",
    "The data comes from the catalog of Spitzer sources of Khan et al. (2015), matched with sources from Whitelock et al. (2013) in CasJobs."
   ]
  },
  {
   "cell_type": "code",
   "execution_count": 1,
   "metadata": {},
   "outputs": [],
   "source": [
    "import pandas as pd\n",
    "import numpy as np\n",
    "import matplotlib.pyplot as plt\n",
    "%matplotlib inline\n",
    "from scipy.stats import gaussian_kde\n",
    "import csv\n",
    "import pathlib"
   ]
  },
  {
   "cell_type": "code",
   "execution_count": 2,
   "metadata": {},
   "outputs": [],
   "source": [
    "# Read in the table of points to the right of the 3-sigma line\n",
    "\n",
    "flagged_data = pd.read_csv('/Users/lgray/Documents/Phot_data/flagged_vals_30July2018_lauringray.csv')"
   ]
  },
  {
   "cell_type": "code",
   "execution_count": 3,
   "metadata": {},
   "outputs": [],
   "source": [
    "# shorten variable names\n",
    "\n",
    "jMINUSthreesix = flagged_data.threesixVS_jMINUSthreesix.values                  # [3.6] vs. J - [3.6]\n",
    "threesixMINUSeightzero = flagged_data.eightzeroVS_threesixMINUSeightzero.values # [8.0] vs. [3.6]-[8.0]\n",
    "fourfiveMINUSeightzero = flagged_data.eightzeroVS_fourfiveMINUSeightzero.values # [8.0] vs. [4.5]-[8.0]\n",
    "jMINUSh = flagged_data.hVS_jMINUSh.values                                       # H vs. J-H\n",
    "hMINUSthreesix = flagged_data.hVS_hMINUSthreesix.values                         # H vs. H-[3.6]\n",
    "hMINUSfourfive = flagged_data.hVS_hMINUSfourfive.values                         # H vs. H-[4.5]\n",
    "hMINUSk = flagged_data.kVS_hMINUSk.values                                       # K vs. H-K\n",
    "jMINUSk = flagged_data.kVS_jMINUSk.values                                       # K vs. J-K"
   ]
  },
  {
   "cell_type": "markdown",
   "metadata": {},
   "source": [
    "The 8 CMDs that were data-flagged are:\n",
    "    - [3.6] vs. J-[3.6]\n",
    "    - [8.0] vs. [3.6]-[8.0]\n",
    "    - [8.0] vs. [4.5]-[8.0]\n",
    "    - H vs. J-H\n",
    "    - H vs. H-[3.6]\n",
    "    - H vs. H-[4.5]\n",
    "    - K vs. H-K\n",
    "    - K vs. J-K\n",
    "\n",
    "The current approach is to iterate through the longest column (jMINUSthreesix), because that has the most IDs to look for matches for.  I create a list of the other columns, and for each ID in the longest column, check each column in the list (converted into a set).  If the ID is in that column, add +1 to a counter.  After checking all the other columns, append the ID to a list according to the value of the counter."
   ]
  },
  {
   "cell_type": "code",
   "execution_count": 4,
   "metadata": {},
   "outputs": [],
   "source": [
    "def CMD_count(col, column_list):\n",
    "    \"\"\"\n",
    "    Before running the function, user defines empty lists of CMD counts as:\n",
    "        in_one = []\n",
    "        in_two = []\n",
    "        in_three = []\n",
    "        in_four = []\n",
    "        in_five = []\n",
    "        in_six = []\n",
    "        in_seven = []\n",
    "        in_eight = []\n",
    "    \n",
    "    This is so that the function can be run on multiple columns without erasing the previous lists.\n",
    "    \n",
    "    User chooses a CMD column that they want to use to iterate through the other CMDs (col), and defines a list\n",
    "    including all other columns (column_list).\n",
    "    \n",
    "    For each element in the chosen column, the function goes through the list of columns, \n",
    "    and checks if the element is in a column.  Each time it is, +1 is added to a counter.  The element is then \n",
    "    sorted into a list based on the final value of the counter, after checking to make sure that \n",
    "    the element is not already in that list (so that it can be run on multiple columns).\n",
    "    \n",
    "    The function also prints which row of the chosen column the function is on every 100 rows, \n",
    "    which is useful for estimating progress.\n",
    "    \n",
    "    The user needs to update the col_len for each column in the definition if it has changed since the last time\n",
    "    the function was run.\n",
    "    \n",
    "    Call example:\n",
    "        col_list = [fourfiveMINUSeightzero, threesixMINUSeightzero, jMINUSk, \n",
    "                    hMINUSthreesix, jMINUSh, hMINUSfourfive, hMINUSk]\n",
    "        CMD_count(jMINUSthreesix, col_list)\n",
    "    \"\"\"\n",
    "    \n",
    "    if col is jMINUSthreesix:\n",
    "        col_len = 3330\n",
    "    if col is threesixMINUSeightzero:\n",
    "        col_len = 2432\n",
    "    if col is fourfiveMINUSeightzero:\n",
    "        col_len = 2546\n",
    "    if col is jMINUSh:\n",
    "        col_len = 2073\n",
    "    if col is hMINUSthreesix:\n",
    "        col_len = 2209\n",
    "    if col is hMINUSfourfive:\n",
    "        col_len = 1684\n",
    "    if col is hMINUSk:\n",
    "        col_len = 678\n",
    "    if col is jMINUSk:\n",
    "        col_len = 1922\n",
    "    \n",
    "    k = 1 # row counter\n",
    "    for i in col:\n",
    "        if k < col_len: # keeps it from going past the end of the column if it's not the longest one\n",
    "            if k%100 == 0:\n",
    "                print(\"On row\", k) \n",
    "        \n",
    "            a=1 # CMD counter\n",
    "            for c in column_list:\n",
    "                s = set(c)\n",
    "                if i in s:\n",
    "                    a = a+1\n",
    "        \n",
    "            if a == 1 and int(i) not in in_one: #if the counter is at 1 and the ID has not already been included\n",
    "                in_one.append(int(i))\n",
    "            elif a == 2 and int(i) not in in_two:\n",
    "                in_two.append(int(i))\n",
    "            elif a == 3 and int(i) not in in_three:\n",
    "                in_three.append(int(i))\n",
    "            elif a == 4 and int(i) not in in_four:\n",
    "                in_four.append(int(i))\n",
    "            elif a == 5 and int(i) not in in_five:\n",
    "                in_five.append(int(i))\n",
    "            elif a == 6 and int(i) not in in_six:\n",
    "                in_six.append(int(i))\n",
    "            elif a == 7 and int(i) not in in_seven:\n",
    "                in_seven.append(int(i))\n",
    "            elif a == 8 and int(i) not in in_eight:\n",
    "                in_eight.append(int(i))\n",
    "                \n",
    "            k = k+1"
   ]
  },
  {
   "cell_type": "code",
   "execution_count": 5,
   "metadata": {},
   "outputs": [],
   "source": [
    "in_one = []\n",
    "in_two = []\n",
    "in_three = []\n",
    "in_four = []\n",
    "in_five = []\n",
    "in_six = []\n",
    "in_seven = []\n",
    "in_eight = []"
   ]
  },
  {
   "cell_type": "code",
   "execution_count": 6,
   "metadata": {},
   "outputs": [],
   "source": [
    "full_col_list = [jMINUSthreesix, fourfiveMINUSeightzero, threesixMINUSeightzero, jMINUSk, \n",
    "            hMINUSthreesix, jMINUSh, hMINUSfourfive, hMINUSk]"
   ]
  },
  {
   "cell_type": "code",
   "execution_count": 7,
   "metadata": {},
   "outputs": [
    {
     "name": "stdout",
     "output_type": "stream",
     "text": [
      "On row 100\n",
      "On row 200\n",
      "On row 300\n",
      "On row 400\n",
      "On row 500\n",
      "On row 600\n",
      "On row 700\n",
      "On row 800\n",
      "On row 900\n",
      "On row 1000\n",
      "On row 1100\n",
      "On row 1200\n",
      "On row 1300\n",
      "On row 1400\n",
      "On row 1500\n",
      "On row 1600\n",
      "On row 1700\n",
      "On row 1800\n",
      "On row 1900\n",
      "On row 2000\n",
      "On row 2100\n",
      "On row 2200\n",
      "On row 2300\n",
      "On row 2400\n",
      "On row 2500\n",
      "On row 2600\n",
      "On row 2700\n",
      "On row 2800\n",
      "On row 2900\n",
      "On row 3000\n",
      "On row 3100\n",
      "On row 3200\n",
      "On row 3300\n"
     ]
    }
   ],
   "source": [
    "col_list = [fourfiveMINUSeightzero, threesixMINUSeightzero, jMINUSk, \n",
    "            hMINUSthreesix, jMINUSh, hMINUSfourfive, hMINUSk]\n",
    "CMD_count(jMINUSthreesix, col_list)"
   ]
  },
  {
   "cell_type": "code",
   "execution_count": 8,
   "metadata": {},
   "outputs": [
    {
     "name": "stdout",
     "output_type": "stream",
     "text": [
      "Number in 1 CMD: 517\n",
      "Number in 2 CMDs: 441\n",
      "Number in 3 CMDs: 848\n",
      "Number in 4 CMDs: 428\n",
      "Number in 5 CMDs: 352\n",
      "Number in 6 CMDs: 230\n",
      "Number in 7 CMDs: 141\n",
      "Number in 8 CMDs: 362\n"
     ]
    }
   ],
   "source": [
    "print(\"Number in 1 CMD:\", len(in_one))\n",
    "print(\"Number in 2 CMDs:\", len(in_two))\n",
    "print(\"Number in 3 CMDs:\", len(in_three))\n",
    "print(\"Number in 4 CMDs:\", len(in_four))\n",
    "print(\"Number in 5 CMDs:\", len(in_five))\n",
    "print(\"Number in 6 CMDs:\", len(in_six))\n",
    "print(\"Number in 7 CMDs:\", len(in_seven))\n",
    "print(\"Number in 8 CMDs:\", len(in_eight))"
   ]
  },
  {
   "cell_type": "code",
   "execution_count": 9,
   "metadata": {},
   "outputs": [
    {
     "name": "stdout",
     "output_type": "stream",
     "text": [
      "On row 100\n",
      "On row 200\n",
      "On row 300\n",
      "On row 400\n",
      "On row 500\n",
      "On row 600\n",
      "On row 700\n",
      "On row 800\n",
      "On row 900\n",
      "On row 1000\n",
      "On row 1100\n",
      "On row 1200\n",
      "On row 1300\n",
      "On row 1400\n",
      "On row 1500\n",
      "On row 1600\n",
      "On row 1700\n",
      "On row 1800\n",
      "On row 1900\n",
      "On row 2000\n",
      "On row 2100\n",
      "On row 2200\n",
      "On row 2300\n",
      "On row 2400\n",
      "On row 2500\n"
     ]
    }
   ],
   "source": [
    "col_list = [jMINUSthreesix, threesixMINUSeightzero, jMINUSk, \n",
    "            hMINUSthreesix, jMINUSh, hMINUSfourfive, hMINUSk]\n",
    "\n",
    "CMD_count(fourfiveMINUSeightzero, col_list)"
   ]
  },
  {
   "cell_type": "code",
   "execution_count": 10,
   "metadata": {},
   "outputs": [
    {
     "name": "stdout",
     "output_type": "stream",
     "text": [
      "Number in 1 CMD: 616\n",
      "Number in 2 CMDs: 2095\n",
      "Number in 3 CMDs: 868\n",
      "Number in 4 CMDs: 442\n",
      "Number in 5 CMDs: 355\n",
      "Number in 6 CMDs: 231\n",
      "Number in 7 CMDs: 141\n",
      "Number in 8 CMDs: 362\n"
     ]
    }
   ],
   "source": [
    "print(\"Number in 1 CMD:\", len(in_one))\n",
    "print(\"Number in 2 CMDs:\", len(in_two))\n",
    "print(\"Number in 3 CMDs:\", len(in_three))\n",
    "print(\"Number in 4 CMDs:\", len(in_four))\n",
    "print(\"Number in 5 CMDs:\", len(in_five))\n",
    "print(\"Number in 6 CMDs:\", len(in_six))\n",
    "print(\"Number in 7 CMDs:\", len(in_seven))\n",
    "print(\"Number in 8 CMDs:\", len(in_eight))"
   ]
  },
  {
   "cell_type": "code",
   "execution_count": 11,
   "metadata": {},
   "outputs": [
    {
     "name": "stdout",
     "output_type": "stream",
     "text": [
      "On row 100\n",
      "On row 200\n",
      "On row 300\n",
      "On row 400\n",
      "On row 500\n",
      "On row 600\n",
      "On row 700\n",
      "On row 800\n",
      "On row 900\n",
      "On row 1000\n",
      "On row 1100\n",
      "On row 1200\n",
      "On row 1300\n",
      "On row 1400\n",
      "On row 1500\n",
      "On row 1600\n",
      "On row 1700\n",
      "On row 1800\n",
      "On row 1900\n",
      "On row 2000\n",
      "On row 2100\n",
      "On row 2200\n",
      "On row 2300\n",
      "On row 2400\n"
     ]
    }
   ],
   "source": [
    "col_list = [jMINUSthreesix, fourfiveMINUSeightzero, jMINUSk, \n",
    "            hMINUSthreesix, jMINUSh, hMINUSfourfive, hMINUSk]\n",
    "\n",
    "CMD_count(threesixMINUSeightzero, col_list)"
   ]
  },
  {
   "cell_type": "code",
   "execution_count": 12,
   "metadata": {},
   "outputs": [
    {
     "name": "stdout",
     "output_type": "stream",
     "text": [
      "Number in 1 CMD: 687\n",
      "Number in 2 CMDs: 2098\n",
      "Number in 3 CMDs: 869\n",
      "Number in 4 CMDs: 443\n",
      "Number in 5 CMDs: 355\n",
      "Number in 6 CMDs: 231\n",
      "Number in 7 CMDs: 141\n",
      "Number in 8 CMDs: 362\n"
     ]
    }
   ],
   "source": [
    "print(\"Number in 1 CMD:\", len(in_one))\n",
    "print(\"Number in 2 CMDs:\", len(in_two))\n",
    "print(\"Number in 3 CMDs:\", len(in_three))\n",
    "print(\"Number in 4 CMDs:\", len(in_four))\n",
    "print(\"Number in 5 CMDs:\", len(in_five))\n",
    "print(\"Number in 6 CMDs:\", len(in_six))\n",
    "print(\"Number in 7 CMDs:\", len(in_seven))\n",
    "print(\"Number in 8 CMDs:\", len(in_eight))"
   ]
  },
  {
   "cell_type": "code",
   "execution_count": 13,
   "metadata": {},
   "outputs": [
    {
     "name": "stdout",
     "output_type": "stream",
     "text": [
      "On row 100\n",
      "On row 200\n",
      "On row 300\n",
      "On row 400\n",
      "On row 500\n",
      "On row 600\n",
      "On row 700\n",
      "On row 800\n",
      "On row 900\n",
      "On row 1000\n",
      "On row 1100\n",
      "On row 1200\n",
      "On row 1300\n",
      "On row 1400\n",
      "On row 1500\n",
      "On row 1600\n",
      "On row 1700\n",
      "On row 1800\n",
      "On row 1900\n"
     ]
    }
   ],
   "source": [
    "col_list = [jMINUSthreesix, fourfiveMINUSeightzero, threesixMINUSeightzero, \n",
    "            hMINUSthreesix, jMINUSh, hMINUSfourfive, hMINUSk]\n",
    "\n",
    "CMD_count(jMINUSk, col_list)"
   ]
  },
  {
   "cell_type": "code",
   "execution_count": 14,
   "metadata": {},
   "outputs": [
    {
     "name": "stdout",
     "output_type": "stream",
     "text": [
      "Number in 1 CMD: 706\n",
      "Number in 2 CMDs: 2178\n",
      "Number in 3 CMDs: 881\n",
      "Number in 4 CMDs: 451\n",
      "Number in 5 CMDs: 355\n",
      "Number in 6 CMDs: 231\n",
      "Number in 7 CMDs: 141\n",
      "Number in 8 CMDs: 362\n"
     ]
    }
   ],
   "source": [
    "print(\"Number in 1 CMD:\", len(in_one))\n",
    "print(\"Number in 2 CMDs:\", len(in_two))\n",
    "print(\"Number in 3 CMDs:\", len(in_three))\n",
    "print(\"Number in 4 CMDs:\", len(in_four))\n",
    "print(\"Number in 5 CMDs:\", len(in_five))\n",
    "print(\"Number in 6 CMDs:\", len(in_six))\n",
    "print(\"Number in 7 CMDs:\", len(in_seven))\n",
    "print(\"Number in 8 CMDs:\", len(in_eight))"
   ]
  },
  {
   "cell_type": "code",
   "execution_count": 15,
   "metadata": {},
   "outputs": [
    {
     "name": "stdout",
     "output_type": "stream",
     "text": [
      "On row 100\n",
      "On row 200\n",
      "On row 300\n",
      "On row 400\n",
      "On row 500\n",
      "On row 600\n",
      "On row 700\n",
      "On row 800\n",
      "On row 900\n",
      "On row 1000\n",
      "On row 1100\n",
      "On row 1200\n",
      "On row 1300\n",
      "On row 1400\n",
      "On row 1500\n",
      "On row 1600\n",
      "On row 1700\n",
      "On row 1800\n",
      "On row 1900\n",
      "On row 2000\n",
      "On row 2100\n",
      "On row 2200\n"
     ]
    }
   ],
   "source": [
    "col_list = [jMINUSthreesix, fourfiveMINUSeightzero, threesixMINUSeightzero, jMINUSk, \n",
    "            jMINUSh, hMINUSfourfive, hMINUSk]\n",
    "\n",
    "CMD_count(hMINUSthreesix, col_list)"
   ]
  },
  {
   "cell_type": "code",
   "execution_count": 16,
   "metadata": {},
   "outputs": [
    {
     "name": "stdout",
     "output_type": "stream",
     "text": [
      "Number in 1 CMD: 732\n",
      "Number in 2 CMDs: 2217\n",
      "Number in 3 CMDs: 883\n",
      "Number in 4 CMDs: 451\n",
      "Number in 5 CMDs: 355\n",
      "Number in 6 CMDs: 231\n",
      "Number in 7 CMDs: 141\n",
      "Number in 8 CMDs: 362\n"
     ]
    }
   ],
   "source": [
    "print(\"Number in 1 CMD:\", len(in_one))\n",
    "print(\"Number in 2 CMDs:\", len(in_two))\n",
    "print(\"Number in 3 CMDs:\", len(in_three))\n",
    "print(\"Number in 4 CMDs:\", len(in_four))\n",
    "print(\"Number in 5 CMDs:\", len(in_five))\n",
    "print(\"Number in 6 CMDs:\", len(in_six))\n",
    "print(\"Number in 7 CMDs:\", len(in_seven))\n",
    "print(\"Number in 8 CMDs:\", len(in_eight))"
   ]
  },
  {
   "cell_type": "code",
   "execution_count": 17,
   "metadata": {},
   "outputs": [
    {
     "name": "stdout",
     "output_type": "stream",
     "text": [
      "On row 100\n",
      "On row 200\n",
      "On row 300\n",
      "On row 400\n",
      "On row 500\n",
      "On row 600\n",
      "On row 700\n",
      "On row 800\n",
      "On row 900\n",
      "On row 1000\n",
      "On row 1100\n",
      "On row 1200\n",
      "On row 1300\n",
      "On row 1400\n",
      "On row 1500\n",
      "On row 1600\n",
      "On row 1700\n",
      "On row 1800\n",
      "On row 1900\n",
      "On row 2000\n"
     ]
    }
   ],
   "source": [
    "col_list = [jMINUSthreesix, fourfiveMINUSeightzero, threesixMINUSeightzero, jMINUSk, \n",
    "            hMINUSthreesix, hMINUSfourfive, hMINUSk]\n",
    "\n",
    "CMD_count(jMINUSh, col_list)"
   ]
  },
  {
   "cell_type": "code",
   "execution_count": 18,
   "metadata": {},
   "outputs": [
    {
     "name": "stdout",
     "output_type": "stream",
     "text": [
      "Number in 1 CMD: 791\n",
      "Number in 2 CMDs: 2222\n",
      "Number in 3 CMDs: 883\n",
      "Number in 4 CMDs: 451\n",
      "Number in 5 CMDs: 355\n",
      "Number in 6 CMDs: 231\n",
      "Number in 7 CMDs: 141\n",
      "Number in 8 CMDs: 362\n"
     ]
    }
   ],
   "source": [
    "print(\"Number in 1 CMD:\", len(in_one))\n",
    "print(\"Number in 2 CMDs:\", len(in_two))\n",
    "print(\"Number in 3 CMDs:\", len(in_three))\n",
    "print(\"Number in 4 CMDs:\", len(in_four))\n",
    "print(\"Number in 5 CMDs:\", len(in_five))\n",
    "print(\"Number in 6 CMDs:\", len(in_six))\n",
    "print(\"Number in 7 CMDs:\", len(in_seven))\n",
    "print(\"Number in 8 CMDs:\", len(in_eight))"
   ]
  },
  {
   "cell_type": "code",
   "execution_count": 19,
   "metadata": {},
   "outputs": [
    {
     "name": "stdout",
     "output_type": "stream",
     "text": [
      "On row 100\n",
      "On row 200\n",
      "On row 300\n",
      "On row 400\n",
      "On row 500\n",
      "On row 600\n",
      "On row 700\n",
      "On row 800\n",
      "On row 900\n",
      "On row 1000\n",
      "On row 1100\n",
      "On row 1200\n",
      "On row 1300\n",
      "On row 1400\n",
      "On row 1500\n",
      "On row 1600\n"
     ]
    }
   ],
   "source": [
    "col_list = [jMINUSthreesix, fourfiveMINUSeightzero, threesixMINUSeightzero, jMINUSk, \n",
    "            hMINUSthreesix, jMINUSh, hMINUSk]\n",
    "\n",
    "CMD_count(hMINUSfourfive, col_list)"
   ]
  },
  {
   "cell_type": "code",
   "execution_count": 20,
   "metadata": {},
   "outputs": [
    {
     "name": "stdout",
     "output_type": "stream",
     "text": [
      "Number in 1 CMD: 882\n",
      "Number in 2 CMDs: 2222\n",
      "Number in 3 CMDs: 883\n",
      "Number in 4 CMDs: 451\n",
      "Number in 5 CMDs: 355\n",
      "Number in 6 CMDs: 231\n",
      "Number in 7 CMDs: 141\n",
      "Number in 8 CMDs: 362\n"
     ]
    }
   ],
   "source": [
    "print(\"Number in 1 CMD:\", len(in_one))\n",
    "print(\"Number in 2 CMDs:\", len(in_two))\n",
    "print(\"Number in 3 CMDs:\", len(in_three))\n",
    "print(\"Number in 4 CMDs:\", len(in_four))\n",
    "print(\"Number in 5 CMDs:\", len(in_five))\n",
    "print(\"Number in 6 CMDs:\", len(in_six))\n",
    "print(\"Number in 7 CMDs:\", len(in_seven))\n",
    "print(\"Number in 8 CMDs:\", len(in_eight))"
   ]
  },
  {
   "cell_type": "code",
   "execution_count": 21,
   "metadata": {},
   "outputs": [
    {
     "name": "stdout",
     "output_type": "stream",
     "text": [
      "On row 100\n",
      "On row 200\n",
      "On row 300\n",
      "On row 400\n",
      "On row 500\n",
      "On row 600\n"
     ]
    }
   ],
   "source": [
    "col_list = [jMINUSthreesix, fourfiveMINUSeightzero, threesixMINUSeightzero, jMINUSk, \n",
    "            hMINUSthreesix, jMINUSh, hMINUSfourfive]\n",
    "\n",
    "CMD_count(hMINUSk, col_list)"
   ]
  },
  {
   "cell_type": "code",
   "execution_count": 22,
   "metadata": {},
   "outputs": [
    {
     "name": "stdout",
     "output_type": "stream",
     "text": [
      "Number in 1 CMD: 882\n",
      "Number in 2 CMDs: 2222\n",
      "Number in 3 CMDs: 883\n",
      "Number in 4 CMDs: 451\n",
      "Number in 5 CMDs: 355\n",
      "Number in 6 CMDs: 231\n",
      "Number in 7 CMDs: 141\n",
      "Number in 8 CMDs: 362\n"
     ]
    }
   ],
   "source": [
    "print(\"Number in 1 CMD:\", len(in_one))\n",
    "print(\"Number in 2 CMDs:\", len(in_two))\n",
    "print(\"Number in 3 CMDs:\", len(in_three))\n",
    "print(\"Number in 4 CMDs:\", len(in_four))\n",
    "print(\"Number in 5 CMDs:\", len(in_five))\n",
    "print(\"Number in 6 CMDs:\", len(in_six))\n",
    "print(\"Number in 7 CMDs:\", len(in_seven))\n",
    "print(\"Number in 8 CMDs:\", len(in_eight))"
   ]
  },
  {
   "cell_type": "code",
   "execution_count": 23,
   "metadata": {},
   "outputs": [],
   "source": [
    "# save data\n",
    "\n",
    "filename = '/Users/lgray/Documents/Phot_data/CMD_counting_30July2018_lauringray.csv'\n",
    "\n",
    "f = open(filename, 'w')\n",
    "writer = csv.writer(f)\n",
    "#add heading\n",
    "points_w_header = ['in_one'] + in_one\n",
    "\n",
    "for val in points_w_header:\n",
    "    writer.writerow([val])\n",
    "\n",
    "f.close()\n",
    "\n",
    "\n",
    "# list of other counts\n",
    "counts = [in_two, in_three, in_four, in_five, in_six, in_seven, in_eight]\n",
    "headers = ['in_two', 'in_three', 'in_four', 'in_five', 'in_six', 'in_seven', 'in_eight']\n",
    "\n",
    "c=0\n",
    "for i in counts:\n",
    "    data = pd.read_csv(filename)\n",
    "    new_col = pd.DataFrame({headers[c]:i})\n",
    "    c = c+1\n",
    "\n",
    "    data= pd.concat([data, new_col], axis=1)\n",
    "    data.to_csv(filename, index=False)"
   ]
  },
  {
   "cell_type": "code",
   "execution_count": null,
   "metadata": {},
   "outputs": [],
   "source": []
  }
 ],
 "metadata": {
  "kernelspec": {
   "display_name": "Python 3",
   "language": "python",
   "name": "python3"
  },
  "language_info": {
   "codemirror_mode": {
    "name": "ipython",
    "version": 3
   },
   "file_extension": ".py",
   "mimetype": "text/x-python",
   "name": "python",
   "nbconvert_exporter": "python",
   "pygments_lexer": "ipython3",
   "version": "3.6.5"
  }
 },
 "nbformat": 4,
 "nbformat_minor": 2
}
