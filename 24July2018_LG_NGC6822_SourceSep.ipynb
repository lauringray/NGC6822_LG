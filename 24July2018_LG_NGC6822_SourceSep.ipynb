{
 "cells": [
  {
   "cell_type": "markdown",
   "metadata": {},
   "source": [
    "## 24 July 2018\n",
    "-- Laurin Gray\n",
    "\n",
    "Separate magnitude data for each source in the red candidate catalog into individual files & convert it to flux density (Janskys) so that it can be run through the DESK SED fitter.\n",
    "\n",
    "Data is from the catalog of Spitzer sources of Khan et al. (2015), matched with sources from Whitelock et al. (2013) in CasJobs"
   ]
  },
  {
   "cell_type": "code",
   "execution_count": 1,
   "metadata": {},
   "outputs": [],
   "source": [
    "import pandas as pd\n",
    "import numpy as np\n",
    "import matplotlib.pyplot as plt\n",
    "%matplotlib inline\n",
    "from scipy.stats import gaussian_kde\n",
    "import csv\n",
    "import pathlib"
   ]
  },
  {
   "cell_type": "code",
   "execution_count": 2,
   "metadata": {},
   "outputs": [],
   "source": [
    "def source_sep(catalog, folder):\n",
    "    \"\"\"\n",
    "    Each source needs to be in its own csv file with wavelengths (in microns, not JHK) in the first column \n",
    "    and corresponding flux densities (converted from magnitudes to Janskys) in the second column \n",
    "    to run through the Dusty Evolved Star Kit (DESK) for SED fitting.\n",
    "    \n",
    "    This function goes through each row in a catalog, finds the magnitudes for that source, converts the magnitude\n",
    "    to a flux density in units of Janskys, creates a csv file for the source (named the same as the ID), \n",
    "    and writes the wavelength & the flux density into the columns of the file.\n",
    "    \n",
    "    Note that you must create the folder you wish to put the contents of each catalog into \n",
    "    before running the function, and make sure that filename in the function definition points where you want it to.\n",
    "    Additionally, you must include a / at the end of the folder name when you create the folder variable.\n",
    "    \n",
    "    catalog is a pandas dataframe object, and folder is a string.\n",
    "    \n",
    "    The flux zero points are from:\n",
    "    http://www.astro.sunysb.edu/aevans/PHY523/classnotes523/useful-definitions-pp.pdf (for JHK)\n",
    "    IRAC Instrument handbook (for 3.6, 4.5, 5.8, & 8.0)\n",
    "    MIPS Instrument handbook (for 24)\n",
    "    \n",
    "    Call example:\n",
    "        catalog = pd.read_csv('/Users/lgray/Documents/Phot_data/Red_Cand_Catalogs/17July2018_LG_RedCand_10.csv')\n",
    "        folder = 'in_ten/'\n",
    "        source_sep(catalog, folder)\n",
    "    \"\"\"\n",
    "    \n",
    "    ID = catalog.ID.values\n",
    "    col_list = ['Jmag', 'Hmag', 'Kmag', 'k36mag', 'k45mag', 'k58mag', 'k80mag', 'k24mag']\n",
    "    wavelengths = [1.22, 1.63, 2.19, 3.6, 4.5, 5.8, 8.0, 24]\n",
    "    f0 = [1570, 1020, 636, 280.9, 179.7, 115.0, 64.9, 7.17] # flux zero points for each wavelength in Jy\n",
    "    \n",
    "    c=0\n",
    "    for index, row in catalog.iterrows():\n",
    "        mags = []\n",
    "        for col in col_list:\n",
    "            mags.append(row[col])\n",
    "        \n",
    "        # Convert mags to flux density (fd) in Janskys\n",
    "        # fd = f0 * 10^(-mag/2.5)\n",
    "        flux_dens = []\n",
    "        j = 0\n",
    "        for i in mags:\n",
    "            exp = i/-2.5\n",
    "            fd = f0[j]*np.power(10, exp)\n",
    "            j = j+1\n",
    "            flux_dens.append(fd)\n",
    "        \n",
    "        # Save to file\n",
    "        filename = '/Users/lgray/Documents/Phot_data/SED_Fit_Sources/24July2018/'+folder+str(ID[c])+'.csv'\n",
    "        c = c+1\n",
    "    \n",
    "        f = open(filename, 'w')\n",
    "        writer = csv.writer(f)\n",
    "    \n",
    "        k = 0\n",
    "        for w in wavelengths:\n",
    "            writer.writerow([w, flux_dens[k]])\n",
    "            k = k+1"
   ]
  },
  {
   "cell_type": "code",
   "execution_count": 7,
   "metadata": {},
   "outputs": [],
   "source": [
    "catalog = pd.read_csv('/Users/lgray/Documents/Phot_data/Red_Cand_Catalogs/24July2018/24July2018_LG_RedCand_8.csv')\n",
    "folder = 'in_eight/'\n",
    "source_sep(catalog, folder)"
   ]
  },
  {
   "cell_type": "code",
   "execution_count": null,
   "metadata": {},
   "outputs": [],
   "source": []
  },
  {
   "cell_type": "code",
   "execution_count": null,
   "metadata": {},
   "outputs": [],
   "source": []
  },
  {
   "cell_type": "code",
   "execution_count": null,
   "metadata": {},
   "outputs": [],
   "source": []
  },
  {
   "cell_type": "code",
   "execution_count": null,
   "metadata": {},
   "outputs": [],
   "source": []
  }
 ],
 "metadata": {
  "kernelspec": {
   "display_name": "Python 3",
   "language": "python",
   "name": "python3"
  },
  "language_info": {
   "codemirror_mode": {
    "name": "ipython",
    "version": 3
   },
   "file_extension": ".py",
   "mimetype": "text/x-python",
   "name": "python",
   "nbconvert_exporter": "python",
   "pygments_lexer": "ipython3",
   "version": "3.6.5"
  }
 },
 "nbformat": 4,
 "nbformat_minor": 2
}
