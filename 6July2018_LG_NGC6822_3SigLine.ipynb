{
 "cells": [
  {
   "cell_type": "markdown",
   "metadata": {},
   "source": [
    "## 6 July 2018\n",
    "-- Laurin Gray\n",
    "\n",
    "Making a 3-sigma curve down a CMD. We flag any object rightward of the 3-sigma line \"of interest\". If a source is flagged in multiple CMDs, we can be more confident that it is an AGB star.\n",
    "\n",
    "The approach in this notebook is to sort y-values, x-values, error values, and IDs into separate bins/arrays, grouped by magnitude ranges. We sort by magnitude because as the source becomes dimmer, the error associated with it increases. We determine the 3-sigma value for each range, and an average line down the main vertical branch to be 3-sigma away from. We then identify any value that is higher than the 3-sigma boundary for the region it falls into and place the corresponding ID into a new array, which can be compared to other arrays to determine which ones are flagged in multiple CMDs.\n",
    "\n",
    "This notebook is to determine a better way to group the datasets, that doesn't involve individually naming each set.  Ideally this will make it much easier to build a function to group the data, and do the complete analysis of the notebook, so that we can perform it on several other CMDs.\n",
    "\n",
    "The data comes from the catalog of Spitzer sources of Khan et al. (2015), matched with sources from Whitelock et al. (2013) in CasJobs.  In this notebook, we are working with the K vs K-[3.6] CMD."
   ]
  },
  {
   "cell_type": "code",
   "execution_count": 1,
   "metadata": {},
   "outputs": [],
   "source": [
    "import pandas as pd\n",
    "import numpy as np\n",
    "import matplotlib.pyplot as plt\n",
    "%matplotlib inline\n",
    "from scipy.stats import gaussian_kde"
   ]
  },
  {
   "cell_type": "code",
   "execution_count": 2,
   "metadata": {},
   "outputs": [],
   "source": [
    "# Read in my data from a .csv file saved locally.\n",
    "phot_data = pd.read_csv('~/Documents/Phot_data/CMDparameters26June2018_lauringray.csv')"
   ]
  },
  {
   "cell_type": "code",
   "execution_count": 3,
   "metadata": {},
   "outputs": [],
   "source": [
    "# Create all color cuts needed for plotting\n",
    "\n",
    "phot_data['threesixMINUSfourfive'] = phot_data.k36mag.values - phot_data.k45mag.values\n",
    "phot_data['threesixMINUSfiveeight'] = phot_data.k36mag.values - phot_data.k58mag.values\n",
    "phot_data['threesixMINUSeightzero'] = phot_data.k36mag.values - phot_data.k80mag.values\n",
    "phot_data['threesixMINUStwentyfour'] = phot_data.k36mag.values - phot_data.k24mag.values\n",
    "#\n",
    "phot_data['fourfiveMINUSfiveeight'] = phot_data.k45mag.values - phot_data.k58mag.values\n",
    "phot_data['fourfiveMINUSeightzero'] = phot_data.k45mag.values - phot_data.k80mag.values\n",
    "phot_data['fourfiveMINUStwentyfour'] = phot_data.k45mag.values - phot_data.k24mag.values\n",
    "#\n",
    "phot_data['fiveeightMINUSeightzero'] = phot_data.k58mag.values - phot_data.k80mag.values\n",
    "phot_data['fiveeightMINUStwentyfour'] = phot_data.k58mag.values - phot_data.k24mag.values\n",
    "#\n",
    "phot_data['eightzeroMINUStwentyfour'] = phot_data.k80mag.values - phot_data.k24mag.values\n",
    "#\n",
    "phot_data['jMINUSthreesix'] = phot_data.Jmag.values - phot_data.k36mag.values\n",
    "phot_data['jMINUSfourfive'] = phot_data.Jmag.values - phot_data.k45mag.values\n",
    "phot_data['jMINUSfiveeight'] = phot_data.Jmag.values - phot_data.k58mag.values\n",
    "phot_data['jMINUSeightzero'] = phot_data.Jmag.values - phot_data.k80mag.values\n",
    "phot_data['jMINUStwentyfour'] = phot_data.Jmag.values - phot_data.k24mag.values\n",
    "#\n",
    "phot_data['hMINUSthreesix'] = phot_data.Hmag.values - phot_data.k36mag.values\n",
    "phot_data['hMINUSfourfive'] = phot_data.Hmag.values - phot_data.k45mag.values\n",
    "phot_data['hMINUSfiveeight'] = phot_data.Hmag.values - phot_data.k58mag.values\n",
    "phot_data['hMINUSeightzero'] = phot_data.Hmag.values - phot_data.k80mag.values\n",
    "phot_data['hMINUStwentyfour'] = phot_data.Hmag.values - phot_data.k24mag.values\n",
    "#\n",
    "phot_data['kMINUSthreesix'] = phot_data.Kmag.values - phot_data.k36mag.values\n",
    "phot_data['kMINUSfourfive'] = phot_data.Kmag.values - phot_data.k45mag.values\n",
    "phot_data['kMINUSfiveeight'] = phot_data.Kmag.values - phot_data.k58mag.values\n",
    "phot_data['kMINUSeightzero'] = phot_data.Kmag.values - phot_data.k80mag.values\n",
    "phot_data['kMINUStwentyfour'] = phot_data.Kmag.values - phot_data.k24mag.values"
   ]
  },
  {
   "cell_type": "code",
   "execution_count": 4,
   "metadata": {},
   "outputs": [],
   "source": [
    "# Combine errors\n",
    "\n",
    "# We want the horizontal error values, so we combine the errors for the two values being subtracted \n",
    "# to get the largest possible error bars\n",
    "\n",
    "phot_data['e_kMINUSthreesix'] = phot_data.eKmag.values + phot_data.e36mag.values"
   ]
  },
  {
   "cell_type": "code",
   "execution_count": 5,
   "metadata": {},
   "outputs": [],
   "source": [
    "# Some values in the tables are +/- 9999, due to null data from combining the tables, \n",
    "# which throws off the color scaling.  We wish to exclude these values, \n",
    "# which we do by cutting to only include values in the range -500:500\n",
    "\n",
    "filter_phot_data = phot_data[(phot_data < 500.0) & (phot_data > -500.0)]"
   ]
  },
  {
   "cell_type": "code",
   "execution_count": 6,
   "metadata": {},
   "outputs": [],
   "source": [
    "# Creating bins\n",
    "\n",
    "# bin_size, y1, and y2 will be inputs for an eventual binning function.  \n",
    "# It will be important for the user to make sure that the range and bin size \n",
    "# they choose will generate a whole number- they will recieve an error otherwise.\n",
    "\n",
    "bin_size = 0.1\n",
    "y1 = 11.5\n",
    "y2 = 18.5\n",
    "n_bins = (y2 - y1)/bin_size\n",
    "#print(n_bins)\n",
    "\n",
    "if n_bins%1 == 0:\n",
    "    n_bins = int(n_bins)\n",
    "else:\n",
    "    print(\"Error: n_bins is not a whole number!  Choose a different range or bin size.\")"
   ]
  },
  {
   "cell_type": "code",
   "execution_count": 7,
   "metadata": {},
   "outputs": [],
   "source": [
    "y_bins = [[] for x in range(0,n_bins)]\n",
    "x_bins = [[] for x in range(0,n_bins)]\n",
    "e_bins = [[] for x in range(0,n_bins)]\n",
    "c_bins = [[] for x in range(0,n_bins)]\n",
    "\n",
    "#print(y_bins)\n",
    "\n",
    "c=0 #row counter\n",
    "for i in filter_phot_data.Kmag.values:\n",
    "    k = 0 #bin counter\n",
    "    y1 = 11.5\n",
    "    while k < n_bins+1:\n",
    "        if y1 <= i < y1+bin_size:\n",
    "            y_bins[k].append(i)\n",
    "            x_bins[k].append(filter_phot_data.kMINUSthreesix.values[c])\n",
    "            e_bins[k].append(filter_phot_data.e_kMINUSthreesix.values[c])\n",
    "            c_bins[k].append(phot_data.ID.values[c])\n",
    "            y1 = y1+bin_size\n",
    "            k = k+1\n",
    "        else:\n",
    "            y1 = y1+bin_size\n",
    "            k = k+1\n",
    "    c = c+1"
   ]
  },
  {
   "cell_type": "markdown",
   "metadata": {},
   "source": [
    "I now have lists of the types of variables, which all contain lists of the variables in each grouping.  This should be much easier to manage as I can now access the index of the specified list."
   ]
  },
  {
   "cell_type": "code",
   "execution_count": 8,
   "metadata": {},
   "outputs": [
    {
     "name": "stderr",
     "output_type": "stream",
     "text": [
      "/Users/lgray/anaconda3/envs/astroconda/lib/python3.5/site-packages/numpy/core/fromnumeric.py:2957: RuntimeWarning: Mean of empty slice.\n",
      "  out=out, **kwargs)\n",
      "/Users/lgray/anaconda3/envs/astroconda/lib/python3.5/site-packages/numpy/core/_methods.py:80: RuntimeWarning: invalid value encountered in double_scalars\n",
      "  ret = ret.dtype.type(ret / rcount)\n"
     ]
    }
   ],
   "source": [
    "#print(e_bins)\n",
    "\n",
    "threesig = []\n",
    "for i in e_bins:\n",
    "    threesig.append(np.mean(i)*3)\n",
    "\n",
    "#print(threesig)\n",
    "\n",
    "# Note: if any bins are empty, will recieve a RuntimeWarning: Mean of empty slice.  \n",
    "# This is fine, it just holds a nan value in that spot and won't plot a boundary there"
   ]
  },
  {
   "cell_type": "code",
   "execution_count": 9,
   "metadata": {},
   "outputs": [],
   "source": [
    "# determine the vertical mean\n",
    "\n",
    "vert_lim = 15.0 # argument for eventual function\n",
    "\n",
    "k_mean = []\n",
    "\n",
    "c=0\n",
    "for i in filter_phot_data.Kmag.values:\n",
    "    if i < 15.0:\n",
    "        k_mean.append(filter_phot_data.kMINUSthreesix.values[c])\n",
    "        c = c+1\n",
    "    else:\n",
    "        c = c+1\n",
    "\n",
    "bound = np.mean(k_mean)\n",
    "stdev = np.std(k_mean)\n",
    "\n",
    "left = bound - 3*stdev\n",
    "right = bound + 3*stdev\n",
    "\n",
    "clip = [] # sigma-clipped array\n",
    "for k in k_mean:\n",
    "    if left < k < right:\n",
    "        clip.append(k)\n",
    "\n",
    "boundary = np.mean(clip) #this is the average value of the points above K=15\n",
    "#print(boundary)"
   ]
  },
  {
   "cell_type": "code",
   "execution_count": 10,
   "metadata": {},
   "outputs": [
    {
     "data": {
      "text/plain": [
       "<matplotlib.lines.Line2D at 0x10b7a4b00>"
      ]
     },
     "execution_count": 10,
     "metadata": {},
     "output_type": "execute_result"
    },
    {
     "data": {
      "image/png": "[encoded data removed]",
      "text/plain": [
       "<Figure size 576x576 with 1 Axes>"
      ]
     },
     "metadata": {},
     "output_type": "display_data"
    }
   ],
   "source": [
    "# check vertical line placement\n",
    "\n",
    "# K vs. K-[3.6]\n",
    "#\n",
    "plt.figure(figsize=(8,8))\n",
    "plt.plot(filter_phot_data.kMINUSthreesix,filter_phot_data.Kmag,',')\n",
    "plt.xlim(-2.0, 3.5)\n",
    "plt.ylim(19.0, 11.0)\n",
    "plt.xlabel('K - [3.6]', size=12)\n",
    "plt.ylabel('K', size=12)\n",
    "plt.axvline(x=boundary, color='r', linewidth='0.5')\n",
    "#plt.savefig('K_vs_K-[3.6]_plot.pdf')"
   ]
  },
  {
   "cell_type": "code",
   "execution_count": 11,
   "metadata": {},
   "outputs": [],
   "source": [
    "# Now we shift regions of the vertical mean by 3-sigma\n",
    "\n",
    "# make list of red limit values\n",
    "redlim = []\n",
    "\n",
    "for i in threesig:\n",
    "    redlim.append(boundary+i)\n",
    "    \n",
    "#print(redlim)"
   ]
  },
  {
   "cell_type": "code",
   "execution_count": 12,
   "metadata": {},
   "outputs": [
    {
     "data": {
      "image/png": "[encoded data removed]",
      "text/plain": [
       "<Figure size 576x576 with 1 Axes>"
      ]
     },
     "metadata": {},
     "output_type": "display_data"
    }
   ],
   "source": [
    "# Confirm shifted boundaries\n",
    "\n",
    "plt.figure(figsize=(8,8))\n",
    "plt.plot(filter_phot_data.kMINUSthreesix,filter_phot_data.Kmag,',')\n",
    "plt.xlim(-2.0, 3.5)\n",
    "plt.ylim(19.0, 11.0)\n",
    "plt.xlabel('K - [3.6]', size=12)\n",
    "plt.ylabel('K', size=12)\n",
    "\n",
    "y1 = 11.5 #start of first bin range\n",
    "for x in redlim:\n",
    "    plt.plot((x,x), (y1, y1+bin_size), c='r', linewidth='0.5')\n",
    "    y1 = y1 + bin_size"
   ]
  },
  {
   "cell_type": "code",
   "execution_count": 13,
   "metadata": {},
   "outputs": [
    {
     "name": "stdout",
     "output_type": "stream",
     "text": [
      "Number of flagged points: 662\n"
     ]
    }
   ],
   "source": [
    "# Evaluate and flag points that are to the right of the red line for that region\n",
    "\n",
    "kVS_kMINUSthreesix_points = [] #empty set to store IDs\n",
    "\n",
    "k=0\n",
    "for i in x_bins:\n",
    "    coord = c_bins[k]\n",
    "    c=0\n",
    "    for x in i:\n",
    "        if x > redlim[k]:\n",
    "            kVS_kMINUSthreesix_points.append(coord[c])\n",
    "            c=c+1\n",
    "        else: \n",
    "            c=c+1\n",
    "    k = k+1\n",
    "            \n",
    "print(\"Number of flagged points:\", len(kVS_kMINUSthreesix_points))\n",
    "#print(\"IDs of points:\", kVS_kMINUSthreesix_points)"
   ]
  },
  {
   "cell_type": "code",
   "execution_count": 14,
   "metadata": {},
   "outputs": [],
   "source": [
    "# Visually confirm that the points are being marked correctly\n",
    "\n",
    "red_x = []\n",
    "red_y = []\n",
    "\n",
    "k=0\n",
    "for i in x_bins:\n",
    "    c=0\n",
    "    y_val = y_bins[k]\n",
    "    for x in i:\n",
    "        if x > redlim[k]:\n",
    "            red_x.append(x)\n",
    "            red_y.append(y_val[c])\n",
    "            c=c+1\n",
    "        else: \n",
    "            c=c+1\n",
    "    k = k+1"
   ]
  },
  {
   "cell_type": "code",
   "execution_count": 15,
   "metadata": {},
   "outputs": [
    {
     "data": {
      "image/png": "[encoded data removed]",
      "text/plain": [
       "<Figure size 576x576 with 1 Axes>"
      ]
     },
     "metadata": {},
     "output_type": "display_data"
    }
   ],
   "source": [
    "plt.figure(figsize=(8,8))\n",
    "plt.plot(filter_phot_data.kMINUSthreesix,filter_phot_data.Kmag,',')\n",
    "plt.xlim(-2.0, 3.5)\n",
    "plt.ylim(19.0, 11.0)\n",
    "plt.xlabel('K - [3.6]', size=12)\n",
    "plt.ylabel('K', size=12)\n",
    "plt.scatter(red_x, red_y, s=0.5, c='green')\n",
    "\n",
    "y1 = 11.5 #start of first bin range\n",
    "for x in redlim:\n",
    "    plt.plot((x,x), (y1, y1+bin_size), c='r', linewidth='0.5')\n",
    "    y1 = y1 + bin_size"
   ]
  },
  {
   "cell_type": "markdown",
   "metadata": {},
   "source": [
    "The next steps are:\n",
    "1. Decide the best way to save the flagged points- I'm thinking put them in a file w/ each column from a different CMD\n",
    "2. Create functions for:\n",
    "    - Binning data (inputs: range, bin size, x-axis & y-axis data, error data; return: bins)\n",
    "    - Computing vertical mean (inputs: y-magnitude limit, x & y data; return: boundary)\n",
    "    - Creating 3-sigma line (inputs: boundary; return: redlim\n",
    "    - Flagging points (inputs: name of dataset?)"
   ]
  },
  {
   "cell_type": "code",
   "execution_count": null,
   "metadata": {},
   "outputs": [],
   "source": []
  }
 ],
 "metadata": {
  "kernelspec": {
   "display_name": "Python 3",
   "language": "python",
   "name": "python3"
  },
  "language_info": {
   "codemirror_mode": {
    "name": "ipython",
    "version": 3
   },
   "file_extension": ".py",
   "mimetype": "text/x-python",
   "name": "python",
   "nbconvert_exporter": "python",
   "pygments_lexer": "ipython3",
   "version": "3.5.5"
  }
 },
 "nbformat": 4,
 "nbformat_minor": 2
}
