{
 "cells": [
  {
   "cell_type": "markdown",
   "metadata": {},
   "source": [
    "## 23 July 2018\n",
    "-- Laurin Gray\n",
    "\n",
    "Making a 3-sigma curve down a CMD. We flag any object rightward of the 3-sigma line \"of interest\". If a source is flagged in multiple CMDs, we can be more confident that it is an AGB star.\n",
    "\n",
    "The approach in this notebook is to sort y-values, x-values, error values, and IDs into separate bins/arrays, grouped by magnitude ranges. We sort by magnitude because as the source becomes dimmer, the error associated with it increases. We determine the 3-sigma value for each range, and an average line down the main vertical branch to be 3-sigma away from. We then identify any value that is higher than the 3-sigma boundary for the region it falls into and place the corresponding ID into a new array, which can be compared to other arrays to determine which ones are flagged in multiple CMDs.\n",
    "\n",
    "This notebook contains functions to facilitate this flagging.  This notebook is also a remake of 10July2018_3SigFlagging, using a different list of 8 CMDs.\n",
    "\n",
    "The data comes from the catalog of Spitzer sources of Khan et al. (2015), matched with sources from Whitelock et al. (2013) in CasJobs.\n",
    "\n",
    "List of CMDs used:\n",
    "- [3.6] vs. J-[3.6] (NEW)\n",
    "- [8.0] vs. [3.6]-[8.0]\n",
    "- [8.0] vs. [4.5]-[8.0]\n",
    "- H vs. J-H\n",
    "- H vs. H-[3.6]\n",
    "- H vs. H-[4.5]\n",
    "- K vs. J-K\n",
    "- K vs. H-K"
   ]
  },
  {
   "cell_type": "code",
   "execution_count": 1,
   "metadata": {},
   "outputs": [],
   "source": [
    "import pandas as pd\n",
    "import numpy as np\n",
    "import matplotlib.pyplot as plt\n",
    "%matplotlib inline\n",
    "from scipy.stats import gaussian_kde\n",
    "import csv\n",
    "import pathlib"
   ]
  },
  {
   "cell_type": "code",
   "execution_count": 2,
   "metadata": {},
   "outputs": [],
   "source": [
    "# Read in my data from a .csv file saved locally.\n",
    "phot_data = pd.read_csv('~/Documents/Phot_data/CMDparameters26June2018_lauringray.csv')"
   ]
  },
  {
   "cell_type": "code",
   "execution_count": 3,
   "metadata": {},
   "outputs": [],
   "source": [
    "# Create all color cuts needed for plotting\n",
    "\n",
    "phot_data['threesixMINUSfourfive'] = phot_data.k36mag.values - phot_data.k45mag.values\n",
    "phot_data['threesixMINUSfiveeight'] = phot_data.k36mag.values - phot_data.k58mag.values\n",
    "phot_data['threesixMINUSeightzero'] = phot_data.k36mag.values - phot_data.k80mag.values\n",
    "phot_data['threesixMINUStwentyfour'] = phot_data.k36mag.values - phot_data.k24mag.values\n",
    "#\n",
    "phot_data['fourfiveMINUSfiveeight'] = phot_data.k45mag.values - phot_data.k58mag.values\n",
    "phot_data['fourfiveMINUSeightzero'] = phot_data.k45mag.values - phot_data.k80mag.values\n",
    "phot_data['fourfiveMINUStwentyfour'] = phot_data.k45mag.values - phot_data.k24mag.values\n",
    "#\n",
    "phot_data['fiveeightMINUSeightzero'] = phot_data.k58mag.values - phot_data.k80mag.values\n",
    "phot_data['fiveeightMINUStwentyfour'] = phot_data.k58mag.values - phot_data.k24mag.values\n",
    "#\n",
    "phot_data['eightzeroMINUStwentyfour'] = phot_data.k80mag.values - phot_data.k24mag.values\n",
    "#\n",
    "phot_data['jMINUSthreesix'] = phot_data.Jmag.values - phot_data.k36mag.values\n",
    "phot_data['jMINUSfourfive'] = phot_data.Jmag.values - phot_data.k45mag.values\n",
    "phot_data['jMINUSfiveeight'] = phot_data.Jmag.values - phot_data.k58mag.values\n",
    "phot_data['jMINUSeightzero'] = phot_data.Jmag.values - phot_data.k80mag.values\n",
    "phot_data['jMINUStwentyfour'] = phot_data.Jmag.values - phot_data.k24mag.values\n",
    "#\n",
    "phot_data['hMINUSthreesix'] = phot_data.Hmag.values - phot_data.k36mag.values\n",
    "phot_data['hMINUSfourfive'] = phot_data.Hmag.values - phot_data.k45mag.values\n",
    "phot_data['hMINUSfiveeight'] = phot_data.Hmag.values - phot_data.k58mag.values\n",
    "phot_data['hMINUSeightzero'] = phot_data.Hmag.values - phot_data.k80mag.values\n",
    "phot_data['hMINUStwentyfour'] = phot_data.Hmag.values - phot_data.k24mag.values\n",
    "#\n",
    "phot_data['kMINUSthreesix'] = phot_data.Kmag.values - phot_data.k36mag.values\n",
    "phot_data['kMINUSfourfive'] = phot_data.Kmag.values - phot_data.k45mag.values\n",
    "phot_data['kMINUSfiveeight'] = phot_data.Kmag.values - phot_data.k58mag.values\n",
    "phot_data['kMINUSeightzero'] = phot_data.Kmag.values - phot_data.k80mag.values\n",
    "phot_data['kMINUStwentyfour'] = phot_data.Kmag.values - phot_data.k24mag.values"
   ]
  },
  {
   "cell_type": "code",
   "execution_count": 4,
   "metadata": {},
   "outputs": [],
   "source": [
    "# Combine errors\n",
    "\n",
    "# We want the horizontal error values, so we combine the errors for the two values being subtracted \n",
    "# to get the largest possible error bars\n",
    "\n",
    "# I'm going to go ahead and just create all the error combinations based on possible color cuts\n",
    "\n",
    "phot_data['e_threesixMINUSfourfive'] = phot_data.e36mag.values + phot_data.e45mag.values\n",
    "phot_data['e_threesixMINUSfiveeight'] = phot_data.e36mag.values + phot_data.e58mag.values\n",
    "phot_data['e_threesixMINUSeightzero'] = phot_data.e36mag.values + phot_data.e80mag.values\n",
    "phot_data['e_threesixMINUStwentyfour'] = phot_data.e36mag.values + phot_data.e24mag.values\n",
    "#\n",
    "phot_data['e_fourfiveMINUSfiveeight'] = phot_data.e45mag.values + phot_data.e58mag.values\n",
    "phot_data['e_fourfiveMINUSeightzero'] = phot_data.e45mag.values + phot_data.e80mag.values\n",
    "phot_data['e_fourfiveMINUStwentyfour'] = phot_data.e45mag.values + phot_data.e24mag.values\n",
    "#\n",
    "phot_data['e_fiveeightMINUSeightzero'] = phot_data.e58mag.values + phot_data.e80mag.values\n",
    "phot_data['e_fiveeightMINUStwentyfour'] = phot_data.e58mag.values + phot_data.e24mag.values\n",
    "#\n",
    "phot_data['e_eightzeroMINUStwentyfour'] = phot_data.e80mag.values + phot_data.e24mag.values\n",
    "#\n",
    "phot_data['e_jMINUSthreesix'] = phot_data.eJmag.values + phot_data.e36mag.values\n",
    "phot_data['e_jMINUSfourfive'] = phot_data.eJmag.values + phot_data.e45mag.values\n",
    "phot_data['e_jMINUSfiveeight'] = phot_data.eJmag.values + phot_data.e58mag.values\n",
    "phot_data['e_jMINUSeightzero'] = phot_data.eJmag.values + phot_data.e80mag.values\n",
    "phot_data['e_jMINUStwentyfour'] = phot_data.eJmag.values + phot_data.e24mag.values\n",
    "phot_data['e_jMINUSh'] = phot_data.eJmag.values + phot_data.eHmag.values\n",
    "phot_data['e_jMINUSk'] = phot_data.eJmag.values + phot_data.eKmag.values\n",
    "#\n",
    "phot_data['e_hMINUSthreesix'] = phot_data.eHmag.values + phot_data.e36mag.values\n",
    "phot_data['e_hMINUSfourfive'] = phot_data.eHmag.values + phot_data.e45mag.values\n",
    "phot_data['e_hMINUSfiveeight'] = phot_data.eHmag.values + phot_data.e58mag.values\n",
    "phot_data['e_hMINUSeightzero'] = phot_data.eHmag.values + phot_data.e80mag.values\n",
    "phot_data['e_hMINUStwentyfour'] = phot_data.eHmag.values + phot_data.e24mag.values\n",
    "phot_data['e_hMINUSk'] = phot_data.eHmag.values + phot_data.eKmag.values\n",
    "#\n",
    "phot_data['e_kMINUSthreesix'] = phot_data.eKmag.values + phot_data.e36mag.values\n",
    "phot_data['e_kMINUSfourfive'] = phot_data.eKmag.values + phot_data.e45mag.values\n",
    "phot_data['e_kMINUSfiveeight'] = phot_data.eKmag.values + phot_data.e58mag.values\n",
    "phot_data['e_kMINUSeightzero'] = phot_data.eKmag.values + phot_data.e80mag.values\n",
    "phot_data['e_kMINUStwentyfour'] = phot_data.eKmag.values + phot_data.e24mag.values"
   ]
  },
  {
   "cell_type": "code",
   "execution_count": 5,
   "metadata": {},
   "outputs": [],
   "source": [
    "# Some values in the tables are +/- 9999, due to null data from combining the tables, \n",
    "# which throws off the color scaling.  We wish to exclude these values, \n",
    "# which we do by cutting to only include values in the range -500:500\n",
    "\n",
    "filter_phot_data = phot_data[(phot_data < 500.0) & (phot_data > -500.0)]"
   ]
  },
  {
   "cell_type": "code",
   "execution_count": 6,
   "metadata": {},
   "outputs": [],
   "source": [
    "# For ease in calling functions, we rename all the value arrays to exclude filter_phot_data._____.values\n",
    "# Because there's so many, I'm only defining ones I'll probably need- I can add any later\n",
    "\n",
    "# Magnitudes\n",
    "threesix = filter_phot_data.k36mag.values\n",
    "fourfive = filter_phot_data.k45mag.values\n",
    "fiveeight = filter_phot_data.k58mag.values\n",
    "eightzero = filter_phot_data.k80mag.values\n",
    "twentyfour = filter_phot_data.k24mag.values\n",
    "Jmag = filter_phot_data.Jmag.values\n",
    "Hmag = filter_phot_data.Hmag.values\n",
    "Kmag = filter_phot_data.Kmag.values\n",
    "\n",
    "\n",
    "# Colors\n",
    "threesixMINUSeightzero = filter_phot_data.threesixMINUSeightzero.values\n",
    "\n",
    "fourfiveMINUSeightzero = filter_phot_data.fourfiveMINUSeightzero.values\n",
    "\n",
    "jMINUSthreesix = filter_phot_data.jMINUSthreesix.values\n",
    "jMINUSfourfive = filter_phot_data.jMINUSfourfive.values\n",
    "jMINUSeightzero = filter_phot_data.jMINUSeightzero.values\n",
    "jMINUStwentyfour = filter_phot_data.jMINUStwentyfour.values\n",
    "jMINUSh = filter_phot_data.jMINUSh.values\n",
    "jMINUSk = filter_phot_data.jMINUSk.values\n",
    "\n",
    "hMINUSthreesix = filter_phot_data.hMINUSthreesix.values\n",
    "hMINUSfourfive = filter_phot_data.hMINUSfourfive.values\n",
    "hMINUSeightzero = filter_phot_data.hMINUSeightzero.values\n",
    "hMINUStwentyfour = filter_phot_data.hMINUStwentyfour.values\n",
    "hMINUSk = filter_phot_data.hMINUSk.values\n",
    "\n",
    "kMINUSthreesix = filter_phot_data.kMINUSthreesix.values\n",
    "kMINUSfourfive = filter_phot_data.kMINUSfourfive.values\n",
    "kMINUSfiveeight = filter_phot_data.kMINUSfiveeight.values\n",
    "kMINUSeightzero = filter_phot_data.kMINUSeightzero.values\n",
    "kMINUStwentyfour = filter_phot_data.kMINUStwentyfour.values\n",
    "\n",
    "\n",
    "# Errors\n",
    "e_threesixMINUSeightzero = filter_phot_data.e_threesixMINUSeightzero.values\n",
    "\n",
    "e_fourfiveMINUSeightzero = filter_phot_data.e_fourfiveMINUSeightzero.values\n",
    "\n",
    "e_jMINUSthreesix = filter_phot_data.e_jMINUSthreesix.values\n",
    "e_jMINUSfourfive = filter_phot_data.e_jMINUSfourfive.values\n",
    "e_jMINUSeightzero = filter_phot_data.e_jMINUSeightzero.values\n",
    "e_jMINUStwentyfour = filter_phot_data.e_jMINUStwentyfour.values\n",
    "e_jMINUSh = filter_phot_data.e_jMINUSh.values\n",
    "e_jMINUSk = filter_phot_data.e_jMINUSk.values\n",
    "\n",
    "e_hMINUSthreesix = filter_phot_data.e_hMINUSthreesix.values\n",
    "e_hMINUSfourfive = filter_phot_data.e_hMINUSfourfive.values\n",
    "e_hMINUSeightzero = filter_phot_data.e_hMINUSeightzero.values\n",
    "e_hMINUStwentyfour = filter_phot_data.e_hMINUStwentyfour.values\n",
    "e_hMINUSk = filter_phot_data.e_hMINUSk.values\n",
    "\n",
    "e_kMINUSthreesix = filter_phot_data.e_kMINUSthreesix.values\n",
    "e_kMINUSfourfive = filter_phot_data.e_kMINUSfourfive.values\n",
    "e_kMINUSfiveeight = filter_phot_data.e_kMINUSfiveeight.values\n",
    "e_kMINUSeightzero = filter_phot_data.e_kMINUSeightzero.values\n",
    "e_kMINUStwentyfour = filter_phot_data.e_kMINUStwentyfour.values"
   ]
  },
  {
   "cell_type": "markdown",
   "metadata": {},
   "source": [
    "## Function Definitions"
   ]
  },
  {
   "cell_type": "code",
   "execution_count": 7,
   "metadata": {},
   "outputs": [],
   "source": [
    "def create_bins(bin_size, y1, y2, xval, yval, err):\n",
    "    \"\"\"\n",
    "    Create bins to hold selected x-values, y-values, and errors, along with the coordinate ID, \n",
    "    depending on the range of y-values they fall into. Fill those bins with the values, and return the bins.\n",
    "    \n",
    "    The user enters the size of the bin they'd like, the range of data to cover, the x and y axes of the CMD,\n",
    "    and the error associated with the x-axis (created above).  \n",
    "    \n",
    "    Note that it is possible to create bins that will have no values in them- these will simply hold a nan spot, \n",
    "    and not create a 3-sigma boundary for that range.\n",
    "    \n",
    "    The bin size and range must be chosen so that the number of bins comes out as a whole number.  \n",
    "    If this is not the case, an error message will print.  \n",
    "    \n",
    "    y1 must be lower than y2.\n",
    "    \n",
    "    xval, yval, and err take the form \"Kmag\" or \"e_kMINUSthreesix\"\n",
    "    \n",
    "    Example of calling function:\n",
    "        create_bins(0.5, 11.5, 18.5, kMINUSthreesix, Kmag, e_kMINUSthreesix)\n",
    "    \n",
    "    \"\"\"\n",
    "    \n",
    "    n_bins = (y2 - y1)/bin_size\n",
    "    #print(n_bins)\n",
    "\n",
    "    if n_bins%1 == 0:\n",
    "        n_bins = int(n_bins)\n",
    "    else:\n",
    "        print(\"Error: n_bins is not a whole number!  Choose a different range or bin size.\")\n",
    "    \n",
    "    \n",
    "    y_bins = [[] for x in range(0,n_bins)] # y-values\n",
    "    x_bins = [[] for x in range(0,n_bins)] # x-values\n",
    "    e_bins = [[] for x in range(0,n_bins)] # errors\n",
    "    c_bins = [[] for x in range(0,n_bins)] # IDs\n",
    "\n",
    "    #print(y_bins)\n",
    "\n",
    "    c=0 #row counter\n",
    "    for i in yval:\n",
    "        k = 0 #bin counter\n",
    "        y1 = 11.5\n",
    "        while k < n_bins:\n",
    "            if y1 <= i < y1+bin_size:\n",
    "                y_bins[k].append(i)\n",
    "                x_bins[k].append(xval[c])\n",
    "                e_bins[k].append(err[c])\n",
    "                c_bins[k].append(phot_data.ID.values[c])\n",
    "                y1 = y1+bin_size\n",
    "                k = k+1\n",
    "            else:\n",
    "                y1 = y1+bin_size\n",
    "                k = k+1\n",
    "        c = c+1\n",
    "        \n",
    "    return y_bins, x_bins, e_bins, c_bins"
   ]
  },
  {
   "cell_type": "code",
   "execution_count": 8,
   "metadata": {},
   "outputs": [],
   "source": [
    "def vert_mean(mag_lim, xval, yval):\n",
    "    \"\"\"\n",
    "    Determine the vertical line of the data- the average of the vertical branch.  \n",
    "    To mitigate the effects of other branches, select a mag_lim that excludes where the points diverge.\n",
    "    \n",
    "    Example of calling function:\n",
    "        vert_mean(15.0, kMINUSthreesix, Kmag)\n",
    "    \"\"\"\n",
    "    \n",
    "    mean = []\n",
    "\n",
    "    c=0\n",
    "    for i in yval:\n",
    "        if i < mag_lim:\n",
    "            mean.append(xval[c])\n",
    "            c = c+1\n",
    "        else:\n",
    "            c = c+1\n",
    "\n",
    "    bound = np.nanmean(mean)\n",
    "    stdev = np.nanstd(mean)\n",
    "\n",
    "    left = bound - 3*stdev\n",
    "    right = bound + 3*stdev\n",
    "\n",
    "    clip = [] # sigma-clipped array\n",
    "    for k in mean:\n",
    "        if left < k < right:\n",
    "            clip.append(k)\n",
    "\n",
    "    boundary = np.nanmean(clip) #this is the average value of the points above K=15\n",
    "    #print(boundary)\n",
    "    \n",
    "    return boundary"
   ]
  },
  {
   "cell_type": "code",
   "execution_count": 9,
   "metadata": {},
   "outputs": [],
   "source": [
    "def bound_shift(boundary):\n",
    "    \"\"\"\n",
    "    Create boundaries in region that are 3-sigma away from the vertical mean.  \n",
    "    Input is the return of the vertical mean function.\n",
    "    \n",
    "    If any bins are empty, this function will return a RuntimeWarning: Mean of empty slice. \n",
    "    This is fine, it just holds a nan value in that spot and won't plot a boundary there\n",
    "    \n",
    "    Call example:\n",
    "        bound_shift(boundary)\n",
    "    \"\"\"\n",
    "    \n",
    "    threesig = []\n",
    "    for i in e_bin:\n",
    "        threesig.append(np.nanmean(i)*3)\n",
    "    \n",
    "    # make list of red limit values\n",
    "    redlim = []\n",
    "\n",
    "    for i in threesig:\n",
    "        redlim.append(boundary+i)\n",
    "    \n",
    "    #print(redlim)\n",
    "    return redlim"
   ]
  },
  {
   "cell_type": "code",
   "execution_count": 10,
   "metadata": {},
   "outputs": [],
   "source": [
    "def data_flag():\n",
    "    \"\"\"\n",
    "    Evaluate and flag points that are to the right of the 3-sigma boundary.  \n",
    "    IDs of flagged points are then stored in a list and returned.\n",
    "    \n",
    "    It is suggested that when you call the function to a variable, you name it in the format kVS_kMINUSthreesix,\n",
    "    as this will make it easier to tell which datasets belong to which CMDs when they are all in the same file.\n",
    "    \n",
    "    Call example:\n",
    "        kVS_kMINUSthreesix = data_flag()\n",
    "    \"\"\"\n",
    "    \n",
    "    IDs = [] #empty set to store IDs\n",
    "\n",
    "    k=0\n",
    "    for i in x_bin:\n",
    "    #for i in x_bin[:74]:  # use if need to exclude below a certain point\n",
    "        coord = c_bin[k]\n",
    "        c=0\n",
    "        for x in i:\n",
    "            if x > redlim[k]:\n",
    "                IDs.append(coord[c])\n",
    "                c=c+1\n",
    "            else: \n",
    "                c=c+1\n",
    "        k = k+1\n",
    "            \n",
    "    print(\"Number of flagged points:\", len(IDs))\n",
    "    #print(\"IDs of points:\", IDs)\n",
    "    return IDs"
   ]
  },
  {
   "cell_type": "code",
   "execution_count": 11,
   "metadata": {},
   "outputs": [],
   "source": [
    "def save_data(dataset, column=''):\n",
    "    \"\"\"\n",
    "    Check if the data file already exists.  If it does, add the data on as a new column with a \n",
    "    header you set when you call the function.  If it doesn't, create the file and add the data to it.\n",
    "    \n",
    "    Call example:\n",
    "        save_data(jVS_jMINUSthreesix, column='jVS_jMINUSthreesix')\n",
    "    \"\"\"\n",
    "    \n",
    "    if path.exists():\n",
    "        flagged_points = pd.read_csv(filename)\n",
    "        new_points = pd.DataFrame({column:dataset})\n",
    "\n",
    "        flagged_points= pd.concat([flagged_points, new_points], axis=1)\n",
    "        flagged_points.to_csv(filename, index=False)\n",
    "    else:\n",
    "        f = open(filename, 'w')\n",
    "        writer = csv.writer(f)\n",
    "        #add heading\n",
    "        points_w_header = [column] + dataset\n",
    "\n",
    "        for val in points_w_header:\n",
    "            writer.writerow([val])\n",
    "\n",
    "        f.close()"
   ]
  },
  {
   "cell_type": "markdown",
   "metadata": {},
   "source": [
    "## Run data\n",
    "\n",
    "Every time you run a new set of data, make sure to change:\n",
    "- y1 (below and in the create_bins definition)\n",
    "- y2\n",
    "- lim\n",
    "- xaxis\n",
    "- yaxis\n",
    "- error\n",
    "- column name"
   ]
  },
  {
   "cell_type": "code",
   "execution_count": 12,
   "metadata": {},
   "outputs": [],
   "source": [
    "filename = '/Users/lgray/Documents/Phot_data/flagged_vals_23July2018_lauringray.csv'\n",
    "path = pathlib.Path(filename)\n",
    "\n",
    "y1 = 11.5 #make sure to change in create_bins definition\n",
    "y2 = 19.0\n",
    "bin_size = 0.1\n",
    "lim = 14.0\n",
    "xaxis = jMINUSthreesix\n",
    "yaxis = threesix\n",
    "error = e_jMINUSthreesix\n",
    "column = 'threesixVS_jMINUSthreesix'\n",
    "\n",
    "y_bin, x_bin, e_bin, c_bin = create_bins(bin_size, y1, y2, xaxis, yaxis, error)\n",
    "\n",
    "#print(y_bin[75])"
   ]
  },
  {
   "cell_type": "code",
   "execution_count": 13,
   "metadata": {},
   "outputs": [
    {
     "name": "stdout",
     "output_type": "stream",
     "text": [
      "0.9386564885496184\n"
     ]
    }
   ],
   "source": [
    "boundary = vert_mean(lim, xaxis, yaxis)\n",
    "print(boundary)"
   ]
  },
  {
   "cell_type": "code",
   "execution_count": 14,
   "metadata": {},
   "outputs": [
    {
     "data": {
      "text/plain": [
       "<matplotlib.lines.Line2D at 0x101b554a8>"
      ]
     },
     "execution_count": 14,
     "metadata": {},
     "output_type": "execute_result"
    },
    {
     "data": {
      "image/png": "[encoded data removed]",
      "text/plain": [
       "<Figure size 576x576 with 1 Axes>"
      ]
     },
     "metadata": {},
     "output_type": "display_data"
    }
   ],
   "source": [
    "# check vertical line placement\n",
    "#\n",
    "plt.figure(figsize=(8,8))\n",
    "plt.plot(xaxis,yaxis,',')\n",
    "plt.xlim(-0.5, 6.0)\n",
    "plt.ylim(19.0, 11.5)\n",
    "plt.xlabel('J - [3.6]', size=12)\n",
    "plt.ylabel('[3.6]', size=12)\n",
    "plt.axvline(x=boundary, color='r', linewidth='0.5')"
   ]
  },
  {
   "cell_type": "code",
   "execution_count": 15,
   "metadata": {},
   "outputs": [
    {
     "name": "stderr",
     "output_type": "stream",
     "text": [
      "/Users/lgray/anaconda3/lib/python3.6/site-packages/ipykernel_launcher.py:15: RuntimeWarning: Mean of empty slice\n",
      "  from ipykernel import kernelapp as app\n"
     ]
    }
   ],
   "source": [
    "redlim = bound_shift(boundary)\n",
    "\n",
    "# OR\n",
    "\n",
    "#threesig = []\n",
    "#for i in e_bin:\n",
    "#    threesig.append(np.nanmean(i)*3)\n",
    "\n",
    "# make list of red limit values\n",
    "#redlim = []\n",
    "\n",
    "#for i in threesig:\n",
    "#    redlim.append(-0.01+i)\n",
    "    \n",
    "#print(redlim)"
   ]
  },
  {
   "cell_type": "code",
   "execution_count": 16,
   "metadata": {},
   "outputs": [],
   "source": [
    "red_x = []\n",
    "red_y = []\n",
    "\n",
    "k=0\n",
    "for i in x_bin:\n",
    "    c=0\n",
    "    y_val = y_bin[k]\n",
    "    for x in i:\n",
    "        if x > redlim[k]:\n",
    "            red_x.append(x)\n",
    "            red_y.append(y_val[c])\n",
    "            c=c+1\n",
    "        else: \n",
    "            c=c+1\n",
    "    k = k+1"
   ]
  },
  {
   "cell_type": "code",
   "execution_count": 20,
   "metadata": {},
   "outputs": [
    {
     "data": {
      "image/png": "[encoded data removed]",
      "text/plain": [
       "<Figure size 576x576 with 1 Axes>"
      ]
     },
     "metadata": {},
     "output_type": "display_data"
    }
   ],
   "source": [
    "# Confirm shifted boundaries\n",
    "\n",
    "plt.figure(figsize=(8,8))\n",
    "plt.plot(xaxis,yaxis,',')\n",
    "plt.xlim(-0.5, 6.0)\n",
    "plt.ylim(19.0, 11.5)\n",
    "plt.xlabel('J - [3.6]', size=12)\n",
    "plt.ylabel('[3.6]', size=12)\n",
    "#plt.axhline(y=15.4, linewidth=0.5, c='r')\n",
    "#plt.scatter(red_x, red_y, s=0.5, c='green')\n",
    "\n",
    "for x in redlim:\n",
    "#for x in redlim[:74]:  # use if excluding below a certain point\n",
    "    plt.plot((x,x), (y1, y1+bin_size), c='r', linewidth='0.5')\n",
    "    y1 = y1 + bin_size\n",
    "\n",
    "y1= 11.5\n",
    "\n",
    "#plt.savefig('/Users/lgray/Documents/NGC6822_CMD/23July2018/[3.6]_vs_J-[3.6]_3sig.pdf')"
   ]
  },
  {
   "cell_type": "code",
   "execution_count": 21,
   "metadata": {},
   "outputs": [
    {
     "name": "stdout",
     "output_type": "stream",
     "text": [
      "Number of flagged points: 2539\n"
     ]
    }
   ],
   "source": [
    "new_data = data_flag()\n",
    "#print(new_data)"
   ]
  },
  {
   "cell_type": "code",
   "execution_count": 22,
   "metadata": {},
   "outputs": [],
   "source": [
    "#save_data(new_data, column)"
   ]
  },
  {
   "cell_type": "code",
   "execution_count": null,
   "metadata": {},
   "outputs": [],
   "source": []
  }
 ],
 "metadata": {
  "kernelspec": {
   "display_name": "Python 3",
   "language": "python",
   "name": "python3"
  },
  "language_info": {
   "codemirror_mode": {
    "name": "ipython",
    "version": 3
   },
   "file_extension": ".py",
   "mimetype": "text/x-python",
   "name": "python",
   "nbconvert_exporter": "python",
   "pygments_lexer": "ipython3",
   "version": "3.6.5"
  }
 },
 "nbformat": 4,
 "nbformat_minor": 2
}
